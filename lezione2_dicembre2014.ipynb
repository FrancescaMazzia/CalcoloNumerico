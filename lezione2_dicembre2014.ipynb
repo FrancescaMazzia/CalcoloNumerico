{
 "cells": [
  {
   "cell_type": "markdown",
   "metadata": {},
   "source": [
    "# Introduzione al Python per il calcolo scientifico."
   ]
  },
  {
   "cell_type": "markdown",
   "metadata": {},
   "source": [
    "05/12/2014\n",
    "\n",
    "docente: Francesca Mazzia\n",
    "\n",
    "Il materiale è distribuito con licenza Creative Commons Attribuzione-Non commerciale-Non Opere Derivate 2.5 Italy License http://creativecommons.org/licenses/by-nc-nd/2.5/it/"
   ]
  },
  {
   "cell_type": "markdown",
   "metadata": {},
   "source": [
    "### Matrici e Vettori"
   ]
  },
  {
   "cell_type": "markdown",
   "metadata": {},
   "source": [
    "Scriviamo una matrice casuale con 3 righe  4 colonne \n"
   ]
  },
  {
   "cell_type": "code",
   "execution_count": 1,
   "metadata": {
    "collapsed": false
   },
   "outputs": [
    {
     "name": "stdout",
     "output_type": "stream",
     "text": [
      "[[ 4.76932539  7.48753386  9.22915665  7.88352013]\n",
      " [ 6.28569487  8.99961826  2.37480118  1.12002816]\n",
      " [ 9.40941559  6.66827933  9.14187718  5.68969993]]\n"
     ]
    }
   ],
   "source": [
    "import numpy as np\n",
    "\n",
    "# np.random.rand genera numeri casuali appartenenti a una distribuzione uniforme\n",
    "A = np.random.rand(3,4)*10\n",
    "print(A)"
   ]
  },
  {
   "cell_type": "code",
   "execution_count": 2,
   "metadata": {
    "collapsed": false
   },
   "outputs": [
    {
     "name": "stdout",
     "output_type": "stream",
     "text": [
      "[[9 3 2]\n",
      " [2 3 0]\n",
      " [7 4 7]]\n"
     ]
    }
   ],
   "source": [
    "# questa e' una matrice rettangolare\n",
    "# scriviamo una matrice quadrata con elementi casuali interi\n",
    "A = np.random.randint(10,size=(3,3))\n",
    "print(A)"
   ]
  },
  {
   "cell_type": "code",
   "execution_count": 3,
   "metadata": {
    "collapsed": false
   },
   "outputs": [
    {
     "name": "stdout",
     "output_type": "stream",
     "text": [
      "9\n",
      "3\n",
      "7\n"
     ]
    }
   ],
   "source": [
    "# gli elementi delle matrici si denotano\n",
    "# usando l'indice di riga e di colonna\n",
    "print(A[0,0])\n",
    "print(A[1,1])\n",
    "print(A[2,2])"
   ]
  },
  {
   "cell_type": "code",
   "execution_count": 4,
   "metadata": {
    "collapsed": false
   },
   "outputs": [
    {
     "name": "stdout",
     "output_type": "stream",
     "text": [
      "<type 'numpy.ndarray'>\n"
     ]
    }
   ],
   "source": [
    "print(type(A))"
   ]
  },
  {
   "cell_type": "markdown",
   "metadata": {},
   "source": [
    "Trasposta"
   ]
  },
  {
   "cell_type": "code",
   "execution_count": 5,
   "metadata": {
    "collapsed": false
   },
   "outputs": [
    {
     "name": "stdout",
     "output_type": "stream",
     "text": [
      "('trasposta\\n', array([[9, 2, 7],\n",
      "       [3, 3, 4],\n",
      "       [2, 0, 7]]))\n"
     ]
    }
   ],
   "source": [
    "print('trasposta\\n',A.T)"
   ]
  },
  {
   "cell_type": "markdown",
   "metadata": {},
   "source": [
    "Prodotto riga per colonne e prodotto fra matrici"
   ]
  },
  {
   "cell_type": "code",
   "execution_count": 6,
   "metadata": {
    "collapsed": false
   },
   "outputs": [
    {
     "name": "stdout",
     "output_type": "stream",
     "text": [
      "[[101  44  32]\n",
      " [ 24  15   4]\n",
      " [120  61  63]]\n",
      "[[81  9  4]\n",
      " [ 4  9  0]\n",
      " [49 16 49]]\n"
     ]
    }
   ],
   "source": [
    "print(np.dot(A,A))\n",
    "print(A*A)"
   ]
  },
  {
   "cell_type": "markdown",
   "metadata": {},
   "source": [
    "Tipo matrix"
   ]
  },
  {
   "cell_type": "code",
   "execution_count": 7,
   "metadata": {
    "collapsed": false
   },
   "outputs": [
    {
     "name": "stdout",
     "output_type": "stream",
     "text": [
      "[[9 3 2]\n",
      " [2 3 0]\n",
      " [7 4 7]]\n",
      "<class 'numpy.matrixlib.defmatrix.matrix'>\n",
      "[[ 0.17355372 -0.10743802 -0.04958678]\n",
      " [-0.11570248  0.40495868  0.03305785]\n",
      " [-0.10743802 -0.12396694  0.17355372]]\n",
      "[[  1.00000000e+00  -5.55111512e-17  -5.55111512e-17]\n",
      " [  1.11022302e-16   1.00000000e+00   5.55111512e-17]\n",
      " [  0.00000000e+00   0.00000000e+00   1.00000000e+00]]\n",
      "[[  1.00000000e+00  -5.55111512e-17  -5.55111512e-17]\n",
      " [  1.11022302e-16   1.00000000e+00   5.55111512e-17]\n",
      " [  0.00000000e+00   0.00000000e+00   1.00000000e+00]]\n"
     ]
    }
   ],
   "source": [
    "A = np.asmatrix(A)\n",
    "print(A)    \n",
    "print(type(A)) # A di tipo matrix\n",
    "print(A.I)     # A.I inversa di A\n",
    "print(A.I*A)    # il * e' il prodotto riga per colonne\n",
    "print(np.dot(A.I,A))"
   ]
  },
  {
   "cell_type": "code",
   "execution_count": 9,
   "metadata": {
    "collapsed": false
   },
   "outputs": [
    {
     "name": "stdout",
     "output_type": "stream",
     "text": [
      "<class 'numpy.matrixlib.defmatrix.matrix'>\n",
      "[[9 3 2]\n",
      " [0 3 0]\n",
      " [0 0 7]]\n"
     ]
    }
   ],
   "source": [
    "U=np.triu(A)   # operazioni con in input matrix in output array\n",
    "print(type(U))\n",
    "print(U)"
   ]
  },
  {
   "cell_type": "code",
   "execution_count": 10,
   "metadata": {
    "collapsed": false
   },
   "outputs": [
    {
     "data": {
      "text/plain": [
       "(3, 3)"
      ]
     },
     "execution_count": 10,
     "metadata": {},
     "output_type": "execute_result"
    }
   ],
   "source": [
    "A.shape  # numero di righe e colonne"
   ]
  },
  {
   "cell_type": "code",
   "execution_count": 11,
   "metadata": {
    "collapsed": false
   },
   "outputs": [
    {
     "data": {
      "text/plain": [
       "2"
      ]
     },
     "execution_count": 11,
     "metadata": {},
     "output_type": "execute_result"
    }
   ],
   "source": [
    "A.ndim  # dimensione della matrice, possiamo avere array a piu' dimensioni"
   ]
  },
  {
   "cell_type": "code",
   "execution_count": 12,
   "metadata": {
    "collapsed": false
   },
   "outputs": [
    {
     "name": "stdout",
     "output_type": "stream",
     "text": [
      "[[ 0.  0.  0.]\n",
      " [ 0.  0.  0.]\n",
      " [ 0.  0.  0.]]\n",
      "<type 'numpy.ndarray'>\n"
     ]
    }
   ],
   "source": [
    "O = np.zeros( (3,3) ) # matrice nulla\n",
    "print(O)\n",
    "print(type(O))"
   ]
  },
  {
   "cell_type": "code",
   "execution_count": 13,
   "metadata": {
    "collapsed": false
   },
   "outputs": [
    {
     "name": "stdout",
     "output_type": "stream",
     "text": [
      "<type 'numpy.ndarray'>\n",
      "[[ 1.  0.  0.]\n",
      " [ 0.  1.  0.]\n",
      " [ 0.  0.  1.]]\n"
     ]
    }
   ],
   "source": [
    "I = np.eye(3) # matrice identità\n",
    "print(type(I))\n",
    "print(I)"
   ]
  },
  {
   "cell_type": "code",
   "execution_count": 14,
   "metadata": {
    "collapsed": false
   },
   "outputs": [
    {
     "name": "stdout",
     "output_type": "stream",
     "text": [
      "[[1 0 0 0]\n",
      " [0 2 0 0]\n",
      " [0 0 3 0]\n",
      " [0 0 0 4]]\n"
     ]
    }
   ],
   "source": [
    "d = np.diag(np.array([1, 2, 3, 4])) # array con elementi sulla diagonale\n",
    "print(d)"
   ]
  },
  {
   "cell_type": "code",
   "execution_count": 15,
   "metadata": {
    "collapsed": false
   },
   "outputs": [
    {
     "name": "stdout",
     "output_type": "stream",
     "text": [
      "[1 3 5 7 9]\n"
     ]
    }
   ],
   "source": [
    "narray = np.arange(1,10,2) # arange array\n",
    "print(narray)"
   ]
  },
  {
   "cell_type": "code",
   "execution_count": 16,
   "metadata": {
    "collapsed": false
   },
   "outputs": [
    {
     "name": "stdout",
     "output_type": "stream",
     "text": [
      "[[ 4.76932539  7.48753386  9.22915665  7.88352013]\n",
      " [ 6.28569487  8.99961826  2.37480118  1.12002816]\n",
      " [ 9.40941559  6.66827933  9.14187718  5.68969993]]\n"
     ]
    }
   ],
   "source": [
    "B = np.empty((3,4) ) # array vuoto non inizializzato\n",
    "print(B)"
   ]
  },
  {
   "cell_type": "code",
   "execution_count": 17,
   "metadata": {
    "collapsed": false
   },
   "outputs": [
    {
     "data": {
      "text/plain": [
       "<matplotlib.colorbar.Colorbar instance at 0x055D23F0>"
      ]
     },
     "execution_count": 17,
     "metadata": {},
     "output_type": "execute_result"
    },
    {
     "data": {
      "image/png": "[encoded data removed]",
      "text/plain": [
       "<matplotlib.figure.Figure at 0x540f190>"
      ]
     },
     "metadata": {},
     "output_type": "display_data"
    }
   ],
   "source": [
    "import matplotlib.pyplot as plt\n",
    "%matplotlib inline\n",
    "image = np.random.rand(30, 30)\n",
    "plt.imshow(image, cmap=plt.cm.hot)    \n",
    "plt.colorbar()   "
   ]
  },
  {
   "cell_type": "code",
   "execution_count": 19,
   "metadata": {
    "collapsed": false
   },
   "outputs": [
    {
     "name": "stdout",
     "output_type": "stream",
     "text": [
      "[0 1 2 3 4 5 6 7 8 9]\n"
     ]
    },
    {
     "data": {
      "text/plain": [
       "array([9, 8, 7, 6, 5, 4, 3, 2, 1, 0])"
      ]
     },
     "execution_count": 19,
     "metadata": {},
     "output_type": "execute_result"
    }
   ],
   "source": [
    "a = np.arange(10) \n",
    "print(a)\n",
    "a[::-1]      # ordine inverso"
   ]
  },
  {
   "cell_type": "code",
   "execution_count": 20,
   "metadata": {
    "collapsed": false
   },
   "outputs": [
    {
     "name": "stdout",
     "output_type": "stream",
     "text": [
      "10000 loops, best of 3: 42.8 µs per loop\n"
     ]
    }
   ],
   "source": [
    "a = np.arange(10000)\n",
    "%timeit a + 1  "
   ]
  },
  {
   "cell_type": "code",
   "execution_count": 21,
   "metadata": {
    "collapsed": false
   },
   "outputs": [
    {
     "name": "stdout",
     "output_type": "stream",
     "text": [
      "1000 loops, best of 3: 1.15 ms per loop\n"
     ]
    }
   ],
   "source": [
    "l = range(10000)\n",
    "%timeit [i+1 for i in l] "
   ]
  },
  {
   "cell_type": "code",
   "execution_count": 22,
   "metadata": {
    "collapsed": false
   },
   "outputs": [
    {
     "data": {
      "text/plain": [
       "array([False,  True, False,  True], dtype=bool)"
      ]
     },
     "execution_count": 22,
     "metadata": {},
     "output_type": "execute_result"
    }
   ],
   "source": [
    " a = np.array([1, 2, 3, 4])\n",
    " b = np.array([4, 2, 2, 4])\n",
    " a == b\n"
   ]
  },
  {
   "cell_type": "code",
   "execution_count": 23,
   "metadata": {
    "collapsed": false
   },
   "outputs": [
    {
     "data": {
      "text/plain": [
       "array([False, False,  True, False], dtype=bool)"
      ]
     },
     "execution_count": 23,
     "metadata": {},
     "output_type": "execute_result"
    }
   ],
   "source": [
    "a > b\n"
   ]
  },
  {
   "cell_type": "code",
   "execution_count": 24,
   "metadata": {
    "collapsed": false
   },
   "outputs": [
    {
     "data": {
      "text/plain": [
       "False"
      ]
     },
     "execution_count": 24,
     "metadata": {},
     "output_type": "execute_result"
    }
   ],
   "source": [
    "np.array_equal(a,b)"
   ]
  },
  {
   "cell_type": "code",
   "execution_count": 25,
   "metadata": {
    "collapsed": false
   },
   "outputs": [
    {
     "data": {
      "text/plain": [
       "array([ 0.84147098,  0.90929743,  0.14112001, -0.7568025 ])"
      ]
     },
     "execution_count": 25,
     "metadata": {},
     "output_type": "execute_result"
    }
   ],
   "source": [
    " np.sin(a)"
   ]
  },
  {
   "cell_type": "code",
   "execution_count": 26,
   "metadata": {
    "collapsed": false
   },
   "outputs": [
    {
     "data": {
      "text/plain": [
       "0.8414709848078965"
      ]
     },
     "execution_count": 26,
     "metadata": {},
     "output_type": "execute_result"
    }
   ],
   "source": [
    "np.sin(a[0])"
   ]
  },
  {
   "cell_type": "code",
   "execution_count": 27,
   "metadata": {
    "collapsed": false
   },
   "outputs": [
    {
     "name": "stdout",
     "output_type": "stream",
     "text": [
      "[[[5 7]\n",
      "  [3 6]]\n",
      "\n",
      " [[9 8]\n",
      "  [1 5]]]\n",
      "3\n"
     ]
    }
   ],
   "source": [
    "f = np.random.randint(10,size=(2,2,2))\n",
    "print(f)\n",
    "print(f.ndim)"
   ]
  },
  {
   "cell_type": "code",
   "execution_count": 28,
   "metadata": {
    "collapsed": false
   },
   "outputs": [
    {
     "data": {
      "text/plain": [
       "array([5, 7])"
      ]
     },
     "execution_count": 28,
     "metadata": {},
     "output_type": "execute_result"
    }
   ],
   "source": [
    "f[0,0,:]"
   ]
  },
  {
   "cell_type": "code",
   "execution_count": 29,
   "metadata": {
    "collapsed": false
   },
   "outputs": [
    {
     "data": {
      "text/plain": [
       "array([5, 3])"
      ]
     },
     "execution_count": 29,
     "metadata": {},
     "output_type": "execute_result"
    }
   ],
   "source": [
    "f[0,:,0]"
   ]
  },
  {
   "cell_type": "code",
   "execution_count": 30,
   "metadata": {
    "collapsed": false
   },
   "outputs": [
    {
     "data": {
      "text/plain": [
       "array([[12,  9],\n",
       "       [17,  6]])"
      ]
     },
     "execution_count": 30,
     "metadata": {},
     "output_type": "execute_result"
    }
   ],
   "source": [
    "np.sum(f,axis=2)"
   ]
  },
  {
   "cell_type": "code",
   "execution_count": null,
   "metadata": {
    "collapsed": false
   },
   "outputs": [],
   "source": [
    "import scipy as sp\n"
   ]
  },
  {
   "cell_type": "code",
   "execution_count": 33,
   "metadata": {
    "collapsed": false
   },
   "outputs": [],
   "source": [
    "import  linalgmod\n",
    "import  time\n",
    "\n",
    "dim=200\n",
    "A=np.random.rand(dim,dim)\n",
    "B=np.random.rand(dim,dim)\n",
    "#import importlib as imp\n",
    "#imp.reload(linalgmod)  #per ricaricare il modulo se si fanno modifiche"
   ]
  },
  {
   "cell_type": "code",
   "execution_count": 34,
   "metadata": {
    "collapsed": false
   },
   "outputs": [
    {
     "name": "stdout",
     "output_type": "stream",
     "text": [
      "('clock = ', 17.789854855854628)\n",
      "('clock = ', 0.003739022697004657)\n",
      "('errore', 0.0)\n"
     ]
    }
   ],
   "source": [
    "t1=time.clock()\n",
    "C1=linalgmod.prodmatmat(A,B)\n",
    "t2=time.clock()-t1\n",
    "print( \"clock = \", t2 )\n",
    "\n",
    " \n",
    "# A e B sono array il prodotto riga per colonne si esegue utilizzando \n",
    "# np.dot\n",
    "t1=time.clock()\n",
    "C2=np.dot(A,B)\n",
    "t2d=time.clock()-t1\n",
    "print( \"clock = \", t2d )\n",
    "\n",
    "\n",
    "print( \"errore\", np.max(np.abs(C1-C2)) )\n",
    "\n",
    "# C1 e C2 contengono gli stessi elementi\n"
   ]
  },
  {
   "cell_type": "code",
   "execution_count": 35,
   "metadata": {
    "collapsed": false
   },
   "outputs": [],
   "source": [
    "import scipy.linalg as la\n",
    "# la function inv calcola l'inversa di A \n",
    "AI = la.inv(A)"
   ]
  },
  {
   "cell_type": "code",
   "execution_count": 36,
   "metadata": {
    "collapsed": false
   },
   "outputs": [
    {
     "name": "stdout",
     "output_type": "stream",
     "text": [
      "[[  1.00000000e+00   1.66533454e-15   7.77156117e-16 ...,  -8.43769499e-15\n",
      "    1.99840144e-15  -1.45994328e-14]\n",
      " [  1.31145095e-15   1.00000000e+00  -6.52256027e-16 ...,  -1.63757896e-15\n",
      "    1.06858966e-15   1.38777878e-17]\n",
      " [  1.74860126e-15  -3.10862447e-15   1.00000000e+00 ...,   6.10622664e-15\n",
      "    7.77156117e-16   2.05391260e-15]\n",
      " ..., \n",
      " [ -3.02535774e-15  -1.88737914e-15  -2.95596880e-15 ...,   1.00000000e+00\n",
      "   -4.88498131e-15  -8.27116153e-15]\n",
      " [  1.30451205e-15  -6.66133815e-16  -8.04911693e-16 ...,   7.32747196e-15\n",
      "    1.00000000e+00   3.10862447e-15]\n",
      " [  1.45716772e-15   6.52256027e-16   5.55111512e-17 ...,   7.93809463e-15\n",
      "   -1.94289029e-16   1.00000000e+00]]\n",
      "7.50383152616e+78\n",
      "('norma frobenious= ', 1.5731343954786599)\n",
      "('norma 1 = ', 1.6329613330800345)\n",
      "('norma infinito = ', 2.0879773473361301)\n",
      "('norma 2 = ', 1.4143757053776682)\n"
     ]
    }
   ],
   "source": [
    "print( np.dot(AI,A) ) \n",
    "\n",
    "# una matrice che non ha inversa si dice\n",
    "# singolare\n",
    "print(la.det(A)) #  det calcola il determinate di A\n",
    "\n",
    "A = np.random.rand(3,4)\n",
    "# norma di Frobenious\n",
    "print('norma frobenious= ',la.norm(A) )\n",
    "# norma 1\n",
    "n1 = la.norm(A,1)\n",
    "print('norma 1 = ',n1)\n",
    "\n",
    "# norma infinito\n",
    "ninf = la.norm(A,np.inf)\n",
    "print('norma infinito = ',ninf)\n",
    "# norma 2\n",
    "n2= la.norm(A,2)\n",
    "print('norma 2 = ',n2 )"
   ]
  },
  {
   "cell_type": "code",
   "execution_count": 39,
   "metadata": {
    "collapsed": false
   },
   "outputs": [
    {
     "name": "stdout",
     "output_type": "stream",
     "text": [
      "[-4 -3 -2 -1  0  1  2  3  4]\n",
      "[[-4 -3 -2]\n",
      " [-1  0  1]\n",
      " [ 2  3  4]]\n"
     ]
    }
   ],
   "source": [
    "a=np.array([-4, -3, -2, -1,  0,  1,  2,  3,  4])\n",
    "print(a)\n",
    "b = a.reshape((3, 3))\n",
    "print(b)"
   ]
  },
  {
   "cell_type": "markdown",
   "metadata": {},
   "source": [
    "Sistema lineare: trovare  x tale che A*x = b"
   ]
  },
  {
   "cell_type": "code",
   "execution_count": 40,
   "metadata": {
    "collapsed": false
   },
   "outputs": [
    {
     "name": "stdout",
     "output_type": "stream",
     "text": [
      "Search results for 'solve linear system'\n",
      "----------------------------------------\n",
      "numpy.linalg.solve\n",
      "    Solve a linear matrix equation, or system of linear scalar equations.\n"
     ]
    }
   ],
   "source": [
    "np.lookfor('solve linear system')"
   ]
  },
  {
   "cell_type": "code",
   "execution_count": 42,
   "metadata": {
    "collapsed": false
   },
   "outputs": [
    {
     "name": "stdout",
     "output_type": "stream",
     "text": [
      "[ 2.60422168  4.94430818 -5.8933039 ]\n",
      "[  4.44089210e-16   0.00000000e+00   0.00000000e+00]\n"
     ]
    }
   ],
   "source": [
    "A = np.random.rand(3,3)\n",
    "b = np.array([1,2,3])\n",
    "x = np.linalg.solve(A,b)\n",
    "print(x)\n",
    "type(x)\n",
    "print( np.dot(A,x)-b)"
   ]
  },
  {
   "cell_type": "code",
   "execution_count": 43,
   "metadata": {
    "collapsed": false
   },
   "outputs": [
    {
     "name": "stdout",
     "output_type": "stream",
     "text": [
      "<type 'numpy.ndarray'>\n",
      "[  4.44089210e-16   0.00000000e+00   0.00000000e+00]\n"
     ]
    }
   ],
   "source": [
    "print(type(A))\n",
    "print(np.dot(A,x)-b) # residuo"
   ]
  },
  {
   "cell_type": "code",
   "execution_count": 44,
   "metadata": {
    "collapsed": false
   },
   "outputs": [
    {
     "name": "stdout",
     "output_type": "stream",
     "text": [
      "(3,)\n",
      "(3,)\n",
      "[[ 1.30880645 -0.08946478 -6.21934168]\n",
      " [ 1.18649286  1.66643464 -6.8529275 ]\n",
      " [-0.50514497  1.44954526 -3.94440029]]\n"
     ]
    }
   ],
   "source": [
    "print(x.shape)\n",
    "y = x.T\n",
    "print(y.shape)\n",
    "print(A*x-b)"
   ]
  },
  {
   "cell_type": "markdown",
   "metadata": {},
   "source": [
    "Risolviamo un sistema lineare con matrice dei coefficienti\n",
    "la matrice di Hilbert.La matrice viene costruita nel modulo linalgmod.\n",
    "Il termine noto lo scegliamo in modo che la soluzione x\n",
    "sia il vettore di tutti  uno."
   ]
  },
  {
   "cell_type": "code",
   "execution_count": null,
   "metadata": {
    "collapsed": false
   },
   "outputs": [],
   "source": [
    "n = 7\n",
    "A = linalgmod.hilb(n)\n",
    "#print(A)\n",
    "x = np.ones( (n,1))\n",
    "b = np.dot(A,x)\n",
    "#print(b)"
   ]
  },
  {
   "cell_type": "markdown",
   "metadata": {},
   "source": [
    "risolviamo il sistema, calcoliamo il residuo e l'errore assoluto"
   ]
  },
  {
   "cell_type": "code",
   "execution_count": null,
   "metadata": {
    "collapsed": false
   },
   "outputs": [],
   "source": [
    "xa = np.linalg.solve(A,b)\n",
    "xb = la.solve(A,b)"
   ]
  },
  {
   "cell_type": "code",
   "execution_count": null,
   "metadata": {
    "collapsed": false
   },
   "outputs": [],
   "source": [
    "print(la.norm(x-xa,2))\n",
    "print(la.norm(x-xb,2))"
   ]
  },
  {
   "cell_type": "markdown",
   "metadata": {},
   "source": [
    "Stampiamo il numero di condizione di A. Il numero di condizione nella soluzione di un sistema lineare ci dice come una perturbazione sui dati di input (A e b) si ripercuote sul risultato (xa). Il numero di condizione $$\\kappa(A) = \\| A \\| \\| A^{-1}\\|$$ "
   ]
  },
  {
   "cell_type": "code",
   "execution_count": null,
   "metadata": {
    "collapsed": false
   },
   "outputs": [],
   "source": [
    "np.linalg.cond(A)"
   ]
  },
  {
   "cell_type": "markdown",
   "metadata": {},
   "source": [
    "la matrice di Hilbert è mal condizionata"
   ]
  },
  {
   "cell_type": "code",
   "execution_count": null,
   "metadata": {
    "collapsed": false
   },
   "outputs": [],
   "source": [
    "Possiamo anche prima fattorizzare la matrice a poi risolvere i sistemi\n",
    "lineari usando la fattorizzazione. La fattorizzazione usata dagli \n",
    "algoritmi classici è la fattorizzazione LU con pivot"
   ]
  },
  {
   "cell_type": "code",
   "execution_count": null,
   "metadata": {
    "collapsed": false
   },
   "outputs": [],
   "source": [
    "#%%\n",
    "# function lu di scipy\n",
    "p,l,u=la.lu(A)\n",
    "la.norm(A-np.dot(np.dot(p,l),u),1)\n"
   ]
  },
  {
   "cell_type": "code",
   "execution_count": null,
   "metadata": {
    "collapsed": false
   },
   "outputs": [],
   "source": [
    "np.linalg.cond(l)"
   ]
  },
  {
   "cell_type": "code",
   "execution_count": null,
   "metadata": {
    "collapsed": false
   },
   "outputs": [],
   "source": [
    "np.linalg.cond(u)"
   ]
  },
  {
   "cell_type": "code",
   "execution_count": null,
   "metadata": {
    "collapsed": false
   },
   "outputs": [],
   "source": [
    "# function lu della libreria lapack\n",
    "x1=la.solve(A,b)\n",
    "lu,piv=la.lu_factor(A)\n",
    "# piv contiene il vettore delle permutazioni\n",
    "# la riga i e' stata cambiata con la riga piv[i\n"
   ]
  },
  {
   "cell_type": "code",
   "execution_count": null,
   "metadata": {
    "collapsed": false
   },
   "outputs": [],
   "source": [
    "x2=la.lu_solve((lu,piv),b)\n",
    "la.norm(x2-x,2)"
   ]
  },
  {
   "cell_type": "markdown",
   "metadata": {},
   "source": [
    "visualizziamo il residuo. Un residuo piccolo non implica un errore piccolo se la matrice è mal condizionata."
   ]
  },
  {
   "cell_type": "code",
   "execution_count": null,
   "metadata": {
    "collapsed": false
   },
   "outputs": [],
   "source": [
    "la.norm(np.dot(A,x2)-b,2)"
   ]
  },
  {
   "cell_type": "markdown",
   "metadata": {},
   "source": [
    "### Matrici Sparse"
   ]
  },
  {
   "cell_type": "code",
   "execution_count": null,
   "metadata": {
    "collapsed": false
   },
   "outputs": [],
   "source": [
    "import numpy as np\n",
    "import scipy.sparse as sparse\n",
    "A = sparse.csr_matrix([[1, 2, 0], [0, 0, 3], [4, 0, 5]])\n",
    "print(A)"
   ]
  },
  {
   "cell_type": "code",
   "execution_count": null,
   "metadata": {
    "collapsed": false
   },
   "outputs": [],
   "source": [
    " v = np.array([1, 0, -1])\n",
    " A.dot(v)"
   ]
  },
  {
   "cell_type": "markdown",
   "metadata": {},
   "source": [
    "per eseguire il prodotto riga per colonne bisogna utilizzare metodi speciali"
   ]
  },
  {
   "cell_type": "code",
   "execution_count": null,
   "metadata": {
    "collapsed": false
   },
   "outputs": [],
   "source": [
    "np.dot(A, v)"
   ]
  },
  {
   "cell_type": "markdown",
   "metadata": {},
   "source": [
    "oppure trasformare la matrice in matrice densa, operazione che non conviene fare."
   ]
  },
  {
   "cell_type": "code",
   "execution_count": null,
   "metadata": {
    "collapsed": false
   },
   "outputs": [],
   "source": [
    "A = sparse.coo_matrix( ([1,2,3,4],([0,1,2,3],[1,2,3,0]) ) )\n",
    "print(A)\n",
    "print(A.todense())\n",
    "print(type(A.todense()))\n"
   ]
  },
  {
   "cell_type": "markdown",
   "metadata": {},
   "source": [
    "numero degli elementi diversi da zero in A"
   ]
  },
  {
   "cell_type": "code",
   "execution_count": null,
   "metadata": {
    "collapsed": false
   },
   "outputs": [],
   "source": [
    "A.nnz"
   ]
  },
  {
   "cell_type": "markdown",
   "metadata": {},
   "source": [
    "esistono vari formati di rappresentazione, fra cui:\n",
    "il formato per coordinate(coo), il formato compresso per colonne (csc) \n",
    "e il formato compresso per righe (csr)"
   ]
  },
  {
   "cell_type": "code",
   "execution_count": null,
   "metadata": {
    "collapsed": false
   },
   "outputs": [],
   "source": [
    "B=sparse.csc_matrix(A)\n",
    "print(B)"
   ]
  },
  {
   "cell_type": "markdown",
   "metadata": {},
   "source": [
    "l'algebra lineare per le matrici sparse è implementata nel pacchetto\n",
    "scipy.sparse.linalg,  risulta ottimizzata per matrici nel formato csc e csr"
   ]
  },
  {
   "cell_type": "code",
   "execution_count": null,
   "metadata": {
    "collapsed": false
   },
   "outputs": [],
   "source": [
    "import scipy.sparse.linalg as sla\n",
    "b = np.random.rand(4,1)\n",
    "x = sla.spsolve(A,b)\n",
    "print(x)\n",
    "x = sla.spsolve(B,b)\n",
    "print(x)"
   ]
  },
  {
   "cell_type": "code",
   "execution_count": null,
   "metadata": {
    "collapsed": false
   },
   "outputs": [],
   "source": [
    "B.dot(x)"
   ]
  },
  {
   "cell_type": "code",
   "execution_count": null,
   "metadata": {
    "collapsed": false
   },
   "outputs": [],
   "source": [
    "N = 100000;\n",
    "I = np.arange(0,N)\n",
    "J = I+1\n",
    "J[N-1]=0\n",
    "A = sparse.coo_matrix( (np.arange(1,N+1),(I,J) ) )\n",
    "b = I[:]\n",
    "B=sparse.csc_matrix(A)\n",
    "x1 = sla.spsolve(A,b)\n",
    "x2 = sla.spsolve(B,b)\n",
    "print(la.norm(x1-x2,np.inf))"
   ]
  },
  {
   "cell_type": "code",
   "execution_count": null,
   "metadata": {
    "collapsed": false
   },
   "outputs": [],
   "source": [
    "np.dot(A.todense(), v)"
   ]
  },
  {
   "cell_type": "markdown",
   "metadata": {},
   "source": [
    "### Interpolazione"
   ]
  },
  {
   "cell_type": "code",
   "execution_count": null,
   "metadata": {
    "collapsed": false
   },
   "outputs": [],
   "source": [
    "%matplotlib inline\n",
    "%run spline_dem.py"
   ]
  },
  {
   "cell_type": "markdown",
   "metadata": {},
   "source": [
    "grafico di una funzione bidimensionale"
   ]
  },
  {
   "cell_type": "code",
   "execution_count": null,
   "metadata": {
    "collapsed": false
   },
   "outputs": [],
   "source": [
    "x, y = np.mgrid[-1:1:20j, -1:1:20j]\n",
    "z = (x+y) * np.exp(-6.0*(x*x+y*y))\n",
    "\n",
    "plt.figure()\n",
    "plt.pcolor(x, y, z)\n",
    "plt.colorbar()\n",
    "plt.title(\"funzione con elementi sparsi.\")\n",
    "plt.show()"
   ]
  },
  {
   "cell_type": "code",
   "execution_count": null,
   "metadata": {
    "collapsed": false
   },
   "outputs": [],
   "source": [
    "from mpl_toolkits.mplot3d import Axes3D\n",
    "from matplotlib import cm\n",
    "from matplotlib.ticker import LinearLocator, FormatStrFormatter\n",
    "import matplotlib.pyplot as plt\n",
    "import numpy as np\n",
    "\n",
    "fig = plt.figure()\n",
    "ax = fig.gca(projection='3d')\n",
    "surf = ax.plot_surface(x, y, z, rstride=1, cstride=1, cmap=cm.coolwarm,\n",
    "        linewidth=0, antialiased=False)\n",
    "\n",
    "ax.set_zlim(-0.3, 0.3)\n",
    "\n",
    "ax.zaxis.set_major_locator(LinearLocator(10))\n",
    "ax.zaxis.set_major_formatter(FormatStrFormatter('%.02f'))\n",
    "\n",
    "fig.colorbar(surf, shrink=0.5, aspect=5)\n",
    "\n",
    "plt.show()\n",
    "ax.zaxis.set_major_locator(LinearLocator(20))\n",
    "\n",
    "\n",
    "plt.show()"
   ]
  },
  {
   "cell_type": "code",
   "execution_count": null,
   "metadata": {
    "collapsed": false
   },
   "outputs": [],
   "source": [
    "from scipy import interpolate\n",
    "xnew, ynew = np.mgrid[-1:1:70j, -1:1:70j]\n",
    "tck = interpolate.bisplrep(x, y, z, s=0)\n",
    "znew = interpolate.bisplev(xnew[:,0], ynew[0,:], tck)\n",
    "\n",
    "plt.figure()\n",
    "plt.pcolor(xnew, ynew, znew)\n",
    "plt.colorbar()\n",
    "plt.title(\"Interpolated function.\")\n",
    "plt.show()"
   ]
  },
  {
   "cell_type": "code",
   "execution_count": null,
   "metadata": {
    "collapsed": false
   },
   "outputs": [],
   "source": [
    "\n",
    "fig = plt.figure()\n",
    "ax = fig.gca(projection='3d')\n",
    "surf = ax.plot_surface(xnew, ynew, znew, rstride=1, cstride=1, cmap=cm.coolwarm,\n",
    "        linewidth=0, antialiased=False)\n",
    "\n",
    "ax.set_zlim(-0.3, 0.3)\n",
    "\n",
    "ax.zaxis.set_major_locator(LinearLocator(10))\n",
    "ax.zaxis.set_major_formatter(FormatStrFormatter('%.02f'))\n",
    "\n",
    "fig.colorbar(surf, shrink=0.5, aspect=5)\n",
    "\n",
    "plt.show()\n",
    "ax.zaxis.set_major_locator(LinearLocator(20))\n",
    "\n",
    "\n",
    "plt.show()"
   ]
  },
  {
   "cell_type": "code",
   "execution_count": null,
   "metadata": {
    "collapsed": false
   },
   "outputs": [],
   "source": []
  }
 ],
 "metadata": {
  "kernelspec": {
   "display_name": "Python 2",
   "language": "python",
   "name": "python2"
  },
  "language_info": {
   "codemirror_mode": {
    "name": "ipython",
    "version": 2
   },
   "file_extension": ".py",
   "mimetype": "text/x-python",
   "name": "python",
   "nbconvert_exporter": "python",
   "pygments_lexer": "ipython2",
   "version": "2.7.5"
  }
 },
 "nbformat": 4,
 "nbformat_minor": 0
}
