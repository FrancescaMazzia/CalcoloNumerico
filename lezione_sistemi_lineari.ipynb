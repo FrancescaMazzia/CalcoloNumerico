{
 "cells": [
  {
   "cell_type": "markdown",
   "metadata": {},
   "source": [
    "# Soluzione sistemi lineari."
   ]
  },
  {
   "cell_type": "markdown",
   "metadata": {},
   "source": [
    "26/10/2015\n",
    "\n",
    "docente: Francesca Mazzia\n",
    "\n",
    "Il materiale è distribuito con licenza Creative Commons Attribuzione-Non commerciale-Non Opere Derivate 2.5 Italy License http://creativecommons.org/licenses/by-nc-nd/2.5/it/"
   ]
  },
  {
   "cell_type": "markdown",
   "metadata": {},
   "source": [
    "### Matrici e Vettori"
   ]
  },
  {
   "cell_type": "markdown",
   "metadata": {},
   "source": [
    "Scriviamo una matrice casuale con 3 righe  4 colonne \n"
   ]
  },
  {
   "cell_type": "code",
   "execution_count": 2,
   "metadata": {
    "collapsed": false
   },
   "outputs": [
    {
     "name": "stdout",
     "output_type": "stream",
     "text": [
      "[[ 3.99844743  9.25402689  2.71911036  3.95726006]\n",
      " [ 6.4112549   1.07740481  6.34566677  1.68902294]\n",
      " [ 8.54240964  2.08524755  3.25146472  9.0407741 ]]\n"
     ]
    }
   ],
   "source": [
    "import numpy as np\n",
    "from __future__ import print_function\n",
    "\n",
    "# np.random.rand genera numeri casuali appartenenti a una distribuzione uniforme\n",
    "A = np.random.rand(3,4)*10\n",
    "print(A)"
   ]
  },
  {
   "cell_type": "code",
   "execution_count": 4,
   "metadata": {
    "collapsed": false
   },
   "outputs": [
    {
     "name": "stdout",
     "output_type": "stream",
     "text": [
      "[[6 7 7]\n",
      " [3 2 4]\n",
      " [5 3 7]]\n"
     ]
    }
   ],
   "source": [
    "# questa e' una matrice rettangolare\n",
    "# scriviamo una matrice quadrata con elementi casuali interi\n",
    "A = np.random.randint(10,size=(3,3))\n",
    "print(A)"
   ]
  },
  {
   "cell_type": "code",
   "execution_count": 5,
   "metadata": {
    "collapsed": false
   },
   "outputs": [
    {
     "name": "stdout",
     "output_type": "stream",
     "text": [
      "6\n",
      "2\n",
      "7\n"
     ]
    }
   ],
   "source": [
    "# gli elementi delle matrici si denotano\n",
    "# usando l'indice di riga e di colonna\n",
    "print(A[0,0])\n",
    "print(A[1,1])\n",
    "print(A[2,2])"
   ]
  },
  {
   "cell_type": "code",
   "execution_count": 6,
   "metadata": {
    "collapsed": false
   },
   "outputs": [
    {
     "name": "stdout",
     "output_type": "stream",
     "text": [
      "<type 'numpy.ndarray'>\n"
     ]
    }
   ],
   "source": [
    "print(type(A))"
   ]
  },
  {
   "cell_type": "markdown",
   "metadata": {},
   "source": [
    "Trasposta"
   ]
  },
  {
   "cell_type": "code",
   "execution_count": 7,
   "metadata": {
    "collapsed": false
   },
   "outputs": [
    {
     "name": "stdout",
     "output_type": "stream",
     "text": [
      "trasposta\n",
      " [[6 3 5]\n",
      " [7 2 3]\n",
      " [7 4 7]]\n"
     ]
    }
   ],
   "source": [
    "print('trasposta\\n',A.T)"
   ]
  },
  {
   "cell_type": "markdown",
   "metadata": {},
   "source": [
    "Prodotto riga per colonne e prodotto fra matrici"
   ]
  },
  {
   "cell_type": "code",
   "execution_count": 9,
   "metadata": {
    "collapsed": false
   },
   "outputs": [
    {
     "name": "stdout",
     "output_type": "stream",
     "text": [
      "[[ 92  77 119]\n",
      " [ 44  37  57]\n",
      " [ 74  62  96]]\n",
      "[[36 49 49]\n",
      " [ 9  4 16]\n",
      " [25  9 49]]\n"
     ]
    }
   ],
   "source": [
    "print(np.dot(A,A))\n",
    "print(A*A)"
   ]
  },
  {
   "cell_type": "markdown",
   "metadata": {},
   "source": [
    "Tipo matrix"
   ]
  },
  {
   "cell_type": "code",
   "execution_count": 10,
   "metadata": {
    "collapsed": false
   },
   "outputs": [
    {
     "name": "stdout",
     "output_type": "stream",
     "text": [
      "[[6 7 7]\n",
      " [3 2 4]\n",
      " [5 3 7]]\n",
      "classe matrice A =  <class 'numpy.matrixlib.defmatrix.matrix'>\n",
      "---- Matrice inversa ----\n",
      "[[ -1.   14.   -7. ]\n",
      " [  0.5  -3.5   1.5]\n",
      " [  0.5  -8.5   4.5]]\n",
      "---- Prodotto riga per colonne A.I*A ----\n",
      "[[  1.00000000e+00   3.55271368e-15   7.10542736e-15]\n",
      " [ -8.88178420e-16   1.00000000e+00  -1.77635684e-15]\n",
      " [  0.00000000e+00   1.77635684e-15   1.00000000e+00]]\n",
      "---- Prodotto riga per colonne A.I*A con np.dot----\n",
      "[[  1.00000000e+00   3.55271368e-15   7.10542736e-15]\n",
      " [ -8.88178420e-16   1.00000000e+00  -1.77635684e-15]\n",
      " [  0.00000000e+00   1.77635684e-15   1.00000000e+00]]\n"
     ]
    }
   ],
   "source": [
    "A = np.asmatrix(A)\n",
    "print(A)    \n",
    "print('classe matrice A = ',type(A)) # A di tipo matrix\n",
    "print('---- Matrice inversa ----')\n",
    "print(A.I)     # A.I inversa di A\n",
    "print('---- Prodotto riga per colonne A.I*A ----')\n",
    "print(A.I*A)    # il * e' il prodotto riga per colonne\n",
    "print('---- Prodotto riga per colonne A.I*A con np.dot----')\n",
    "print(np.dot(A.I,A))"
   ]
  },
  {
   "cell_type": "code",
   "execution_count": 11,
   "metadata": {
    "collapsed": false
   },
   "outputs": [
    {
     "name": "stdout",
     "output_type": "stream",
     "text": [
      "<class 'numpy.matrixlib.defmatrix.matrix'>\n",
      "[[6 7 7]\n",
      " [0 2 4]\n",
      " [0 0 7]]\n"
     ]
    }
   ],
   "source": [
    "U=np.triu(A)   # operazioni con in input matrix in output array\n",
    "print(type(U)) # la classe di U uguale alla classe  di A\n",
    "print(U)"
   ]
  },
  {
   "cell_type": "code",
   "execution_count": 13,
   "metadata": {
    "collapsed": false
   },
   "outputs": [
    {
     "data": {
      "text/plain": [
       "(3, 3)"
      ]
     },
     "execution_count": 13,
     "metadata": {},
     "output_type": "execute_result"
    }
   ],
   "source": [
    "A.shape  # numero di righe e colonne"
   ]
  },
  {
   "cell_type": "code",
   "execution_count": 14,
   "metadata": {
    "collapsed": false
   },
   "outputs": [
    {
     "data": {
      "text/plain": [
       "2"
      ]
     },
     "execution_count": 14,
     "metadata": {},
     "output_type": "execute_result"
    }
   ],
   "source": [
    "A.ndim  # dimensione della matrice, possiamo avere array a piu' dimensioni"
   ]
  },
  {
   "cell_type": "code",
   "execution_count": 15,
   "metadata": {
    "collapsed": false
   },
   "outputs": [
    {
     "name": "stdout",
     "output_type": "stream",
     "text": [
      "[[ 0.  0.  0.]\n",
      " [ 0.  0.  0.]\n",
      " [ 0.  0.  0.]]\n",
      "<type 'numpy.ndarray'>\n"
     ]
    }
   ],
   "source": [
    "O = np.zeros( (3,3) ) # matrice nulla\n",
    "print(O)\n",
    "print(type(O))"
   ]
  },
  {
   "cell_type": "code",
   "execution_count": 16,
   "metadata": {
    "collapsed": false
   },
   "outputs": [
    {
     "name": "stdout",
     "output_type": "stream",
     "text": [
      "<type 'numpy.ndarray'>\n",
      "[[ 1.  0.  0.]\n",
      " [ 0.  1.  0.]\n",
      " [ 0.  0.  1.]]\n"
     ]
    }
   ],
   "source": [
    "I = np.eye(3) # matrice identità\n",
    "print(type(I))\n",
    "print(I)"
   ]
  },
  {
   "cell_type": "code",
   "execution_count": 17,
   "metadata": {
    "collapsed": false
   },
   "outputs": [
    {
     "name": "stdout",
     "output_type": "stream",
     "text": [
      "[[1 0 0 0]\n",
      " [0 2 0 0]\n",
      " [0 0 3 0]\n",
      " [0 0 0 4]]\n"
     ]
    }
   ],
   "source": [
    "d = np.diag(np.array([1, 2, 3, 4])) # array con elementi sulla diagonale\n",
    "print(d)"
   ]
  },
  {
   "cell_type": "code",
   "execution_count": 18,
   "metadata": {
    "collapsed": false
   },
   "outputs": [
    {
     "name": "stdout",
     "output_type": "stream",
     "text": [
      "[1 3 5 7 9]\n"
     ]
    }
   ],
   "source": [
    "narray = np.arange(1,10,2) # arange array\n",
    "print(narray)"
   ]
  },
  {
   "cell_type": "code",
   "execution_count": 21,
   "metadata": {
    "collapsed": false
   },
   "outputs": [
    {
     "name": "stdout",
     "output_type": "stream",
     "text": [
      "[[ 0.  0.  0.  0.]\n",
      " [ 0.  0.  0.  0.]\n",
      " [ 0.  0.  0.  0.]]\n"
     ]
    }
   ],
   "source": [
    "B = np.empty((3,4) ) # array vuoto non inizializzato\n",
    "print(B)"
   ]
  },
  {
   "cell_type": "code",
   "execution_count": 22,
   "metadata": {
    "collapsed": false
   },
   "outputs": [
    {
     "name": "stdout",
     "output_type": "stream",
     "text": [
      "[0 1 2 3 4 5 6 7 8 9]\n",
      "--- Ordine inverso degli elementi di a ---\n",
      "[9 8 7 6 5 4 3 2 1 0]\n"
     ]
    }
   ],
   "source": [
    "a = np.arange(10) \n",
    "print(a)\n",
    "print('--- Ordine inverso degli elementi di a ---')\n",
    "print(a[::-1])      # ordine inverso"
   ]
  },
  {
   "cell_type": "code",
   "execution_count": 24,
   "metadata": {
    "collapsed": false
   },
   "outputs": [
    {
     "name": "stdout",
     "output_type": "stream",
     "text": [
      "10000 loops, best of 3: 43.9 µs per loop\n"
     ]
    }
   ],
   "source": [
    "a = np.arange(10000)\n",
    "%timeit a + 1  "
   ]
  },
  {
   "cell_type": "code",
   "execution_count": 26,
   "metadata": {
    "collapsed": false
   },
   "outputs": [
    {
     "name": "stdout",
     "output_type": "stream",
     "text": [
      "1000 loops, best of 3: 1.19 ms per loop\n"
     ]
    }
   ],
   "source": [
    "l = range(10000)\n",
    "%timeit [i+1 for i in l] "
   ]
  },
  {
   "cell_type": "code",
   "execution_count": 27,
   "metadata": {
    "collapsed": false
   },
   "outputs": [
    {
     "data": {
      "text/plain": [
       "array([False,  True, False,  True], dtype=bool)"
      ]
     },
     "execution_count": 27,
     "metadata": {},
     "output_type": "execute_result"
    }
   ],
   "source": [
    " a = np.array([1, 2, 3, 4])\n",
    " b = np.array([4, 2, 2, 4])\n",
    " a == b\n"
   ]
  },
  {
   "cell_type": "code",
   "execution_count": 28,
   "metadata": {
    "collapsed": false
   },
   "outputs": [
    {
     "data": {
      "text/plain": [
       "array([False, False,  True, False], dtype=bool)"
      ]
     },
     "execution_count": 28,
     "metadata": {},
     "output_type": "execute_result"
    }
   ],
   "source": [
    "a > b\n"
   ]
  },
  {
   "cell_type": "code",
   "execution_count": 29,
   "metadata": {
    "collapsed": false
   },
   "outputs": [
    {
     "data": {
      "text/plain": [
       "array([ 0.84147098,  0.90929743,  0.14112001, -0.7568025 ])"
      ]
     },
     "execution_count": 29,
     "metadata": {},
     "output_type": "execute_result"
    }
   ],
   "source": [
    " np.sin(a)"
   ]
  },
  {
   "cell_type": "code",
   "execution_count": 30,
   "metadata": {
    "collapsed": false
   },
   "outputs": [
    {
     "data": {
      "text/plain": [
       "0.8414709848078965"
      ]
     },
     "execution_count": 30,
     "metadata": {},
     "output_type": "execute_result"
    }
   ],
   "source": [
    "np.sin(a[0])"
   ]
  },
  {
   "cell_type": "code",
   "execution_count": 31,
   "metadata": {
    "collapsed": false
   },
   "outputs": [],
   "source": [
    "import scipy as sp\n"
   ]
  },
  {
   "cell_type": "code",
   "execution_count": 32,
   "metadata": {
    "collapsed": false
   },
   "outputs": [],
   "source": [
    "import  linalgmod\n",
    "import  time\n",
    "\n",
    "dim=150\n",
    "A=np.random.rand(dim,dim)\n",
    "B=np.random.rand(dim,dim)\n",
    "#import importlib as imp\n",
    "#imp.reload(linalgmod)  #per ricaricare il modulo se si fanno modifiche"
   ]
  },
  {
   "cell_type": "code",
   "execution_count": 33,
   "metadata": {
    "collapsed": false
   },
   "outputs": [
    {
     "name": "stdout",
     "output_type": "stream",
     "text": [
      "clock =  8.23363081062\n",
      "clock =  0.00308838134455\n",
      "errore 0.0\n"
     ]
    }
   ],
   "source": [
    "t1=time.clock()\n",
    "C1=linalgmod.prodmatmat(A,B)\n",
    "t2=time.clock()-t1\n",
    "print( \"clock = \", t2 )\n",
    "\n",
    " \n",
    "# A e B sono array il prodotto riga per colonne si esegue utilizzando \n",
    "# np.dot\n",
    "t1=time.clock()\n",
    "C2=np.dot(A,B)\n",
    "t2d=time.clock()-t1\n",
    "print( \"clock = \", t2d )\n",
    "\n",
    "\n",
    "print( \"errore\", np.max(np.abs(C1-C2)) )\n",
    "\n",
    "# C1 e C2 contengono gli stessi elementi\n"
   ]
  },
  {
   "cell_type": "code",
   "execution_count": 34,
   "metadata": {
    "collapsed": false
   },
   "outputs": [
    {
     "name": "stdout",
     "output_type": "stream",
     "text": [
      "matrice inversa\n",
      "[[ 0.40848257  0.18681418  0.08343176 ...,  0.15476732  0.54997619\n",
      "  -0.92574624]\n",
      " [ 0.17110084  0.2427972   0.27060567 ...,  0.03829957  0.85705479\n",
      "  -0.39716242]\n",
      " [-0.33315096 -0.27046257 -0.16761542 ..., -0.19642685 -1.30227038\n",
      "   0.92608898]\n",
      " ..., \n",
      " [-0.4946256  -0.63027002 -0.33710292 ..., -0.52188077 -1.53767583\n",
      "   1.57749111]\n",
      " [-0.07619781  0.51002937  0.46685882 ...,  0.3026069   0.24182703\n",
      "  -0.60343406]\n",
      " [-0.13911309  0.03027829  0.01831819 ...,  0.03685295 -0.57046689\n",
      "   0.14259538]]\n",
      "---- Prodotto riga per colonne AI*A ----\n",
      "[[  1.00000000e+00  -2.77555756e-16   1.66533454e-16 ...,   4.44089210e-16\n",
      "    1.49880108e-15   1.11022302e-15]\n",
      " [ -1.69309011e-15   1.00000000e+00  -7.49400542e-16 ...,  -4.97518693e-15\n",
      "   -4.38538095e-15  -1.66533454e-16]\n",
      " [ -9.99200722e-16  -1.55431223e-15   1.00000000e+00 ...,   2.94209102e-15\n",
      "    3.71924713e-15  -1.66533454e-14]\n",
      " ..., \n",
      " [  1.99840144e-15  -4.99600361e-16   1.55431223e-15 ...,   1.00000000e+00\n",
      "    5.55111512e-15  -9.32587341e-15]\n",
      " [  4.71844785e-16   2.77555756e-16   1.11022302e-16 ...,   1.52655666e-16\n",
      "    1.00000000e+00  -1.16573418e-15]\n",
      " [ -3.33066907e-16   6.59194921e-16   4.30211422e-16 ...,   4.85722573e-16\n",
      "    1.23512311e-15   1.00000000e+00]]\n"
     ]
    }
   ],
   "source": [
    "import scipy.linalg as la\n",
    "# la function inv calcola l'inversa di A \n",
    "print('matrice inversa') \n",
    "AI = la.inv(A)\n",
    "print(AI)\n",
    "print('---- Prodotto riga per colonne AI*A ----')\n",
    "print( np.dot(AI,A) ) "
   ]
  },
  {
   "cell_type": "code",
   "execution_count": 35,
   "metadata": {
    "collapsed": false
   },
   "outputs": [
    {
     "name": "stdout",
     "output_type": "stream",
     "text": [
      "--- determinante di A ---\n",
      "1.16959018005e+51\n"
     ]
    }
   ],
   "source": [
    "# una matrice che non ha inversa si dice\n",
    "# singolare\n",
    "print('--- determinante di A ---')\n",
    "print(la.det(A)) #  det calcola il determinate di A"
   ]
  },
  {
   "cell_type": "code",
   "execution_count": 36,
   "metadata": {
    "collapsed": false
   },
   "outputs": [
    {
     "name": "stdout",
     "output_type": "stream",
     "text": [
      "norma frobenious=  1.63772815585\n",
      "norma 1 =  1.52341682945\n",
      "norma infinito =  2.02572325649\n",
      "norma 2 =  1.523502374\n",
      "rango di A = 3\n"
     ]
    }
   ],
   "source": [
    "A = np.random.rand(3,4)\n",
    "# norma di Frobenious  \\sqrt{ \\sum_{i=1}^n \\sum_{j=1}^m a_{ij}^2 }\n",
    "print('norma frobenious= ',la.norm(A) )\n",
    "# norma 1\n",
    "n1 = la.norm(A,1)\n",
    "print('norma 1 = ',n1)\n",
    "# norma infinito\n",
    "ninf = la.norm(A,np.inf)\n",
    "print('norma infinito = ',ninf)\n",
    "# norma 2\n",
    "n2= la.norm(A,2)\n",
    "print('norma 2 = ',n2 )\n",
    "# rango di A\n",
    "print('rango di A =', np.linalg.matrix_rank(A))"
   ]
  },
  {
   "cell_type": "code",
   "execution_count": null,
   "metadata": {
    "collapsed": false
   },
   "outputs": [],
   "source": [
    "a=np.array([-4, -3, -2, -1,  0,  1,  2,  3,  4])\n",
    "print(a)\n",
    "b = a.reshape((3, 3))\n",
    "print(b)"
   ]
  },
  {
   "cell_type": "markdown",
   "metadata": {},
   "source": [
    "Sistema lineare: trovare  x tale che A*x = b"
   ]
  },
  {
   "cell_type": "code",
   "execution_count": 38,
   "metadata": {
    "collapsed": false
   },
   "outputs": [
    {
     "name": "stdout",
     "output_type": "stream",
     "text": [
      "Search results for 'solve linear system'\n",
      "----------------------------------------\n",
      "numpy.linalg.solve\n",
      "    Solve a linear matrix equation, or system of linear scalar equations.\n"
     ]
    }
   ],
   "source": [
    "np.lookfor('solve linear system')"
   ]
  },
  {
   "cell_type": "code",
   "execution_count": 42,
   "metadata": {
    "collapsed": false
   },
   "outputs": [
    {
     "name": "stdout",
     "output_type": "stream",
     "text": [
      "[ 1.38308468  6.97965318 -1.21510349]\n",
      "[  4.44089210e-16   0.00000000e+00   0.00000000e+00]\n"
     ]
    }
   ],
   "source": [
    "A = np.random.rand(3,3)\n",
    "b = np.array([1,2,3])\n",
    "x = np.linalg.solve(A,b)\n",
    "print(x)\n",
    "type(x)\n",
    "print( np.dot(A,x)-b)"
   ]
  },
  {
   "cell_type": "code",
   "execution_count": 43,
   "metadata": {
    "collapsed": false
   },
   "outputs": [
    {
     "name": "stdout",
     "output_type": "stream",
     "text": [
      "classe di A = <type 'numpy.ndarray'>\n",
      "residuo = [  4.44089210e-16   0.00000000e+00   0.00000000e+00]\n"
     ]
    }
   ],
   "source": [
    "print('classe di A =',type(A))\n",
    "print('residuo =', np.dot(A,x)-b) # residuo"
   ]
  },
  {
   "cell_type": "code",
   "execution_count": 45,
   "metadata": {
    "collapsed": false,
    "scrolled": true
   },
   "outputs": [
    {
     "name": "stdout",
     "output_type": "stream",
     "text": [
      "(3,)\n",
      "(3,)\n",
      "[[ 0.08848589  2.00512841 -1.0936143 ]\n",
      " [ 0.01841231  2.30610313 -0.32451545]\n",
      " [ 0.86546117  3.06206067 -0.92752184]]\n",
      "[[ 0.  0.  0.]\n",
      " [ 0.  0.  0.]\n",
      " [ 0.  0.  0.]]\n",
      " A =  [[ 0.0639772   0.28728196  0.90001742]\n",
      " [ 0.0133125   0.33040369  0.26706816]\n",
      " [ 0.62574706  0.43871244  0.76332744]]\n",
      " x =  [ 1.38308468  6.97965318 -1.21510349]\n",
      "[ 0.08848589  0.01841231  0.86546117]\n",
      "[ 2.00512841  2.30610313  3.06206067]\n",
      "[-1.0936143  -0.32451545 -0.92752184]\n"
     ]
    }
   ],
   "source": [
    "# i vettori array non sono differenziati per vettori riga o colonna\n",
    "print(x.shape)\n",
    "y = x.T\n",
    "print(y.shape)\n",
    "\n",
    "print(A*x)\n",
    "print(A*y-A*x)\n",
    "print(' A = ', A)\n",
    "print(' x = ', x)\n",
    "print( A[:,0]*x[0])\n",
    "print( A[:,1]*x[1])\n",
    "print( A[:,2]*x[2])\n"
   ]
  },
  {
   "cell_type": "markdown",
   "metadata": {},
   "source": [
    "Soluzione di Sistemi lineari con matrice dei coefficienti triangolare\n",
    "inferiore:\n"
   ]
  },
  {
   "cell_type": "code",
   "execution_count": 51,
   "metadata": {
    "collapsed": false
   },
   "outputs": [
    {
     "name": "stdout",
     "output_type": "stream",
     "text": [
      "x\n",
      "[[ 1.]\n",
      " [ 1.]\n",
      " [ 1.]\n",
      " [ 1.]\n",
      " [ 1.]\n",
      " [ 1.]\n",
      " [ 1.]\n",
      " [ 1.]\n",
      " [ 1.]\n",
      " [ 1.]\n",
      " [ 1.]\n",
      " [ 1.]\n",
      " [ 1.]\n",
      " [ 1.]\n",
      " [ 1.]\n",
      " [ 1.]\n",
      " [ 1.]\n",
      " [ 1.]\n",
      " [ 1.]\n",
      " [ 1.]]\n",
      "errore assoluto\n",
      "[[  0.00000000e+00]\n",
      " [  0.00000000e+00]\n",
      " [  4.44089210e-16]\n",
      " [  5.55111512e-16]\n",
      " [  3.33066907e-16]\n",
      " [  6.66133815e-16]\n",
      " [  8.88178420e-16]\n",
      " [  8.88178420e-16]\n",
      " [  1.38777878e-14]\n",
      " [  9.99200722e-15]\n",
      " [  2.75335310e-14]\n",
      " [  5.10702591e-15]\n",
      " [  4.97379915e-14]\n",
      " [  3.79696274e-14]\n",
      " [  3.58602037e-14]\n",
      " [  4.90718577e-14]\n",
      " [  2.64233080e-14]\n",
      " [  1.90736316e-13]\n",
      " [  2.08055795e-13]\n",
      " [  2.66453526e-15]]\n"
     ]
    }
   ],
   "source": [
    "#definiamo la function\n",
    "def solL(L,b):\n",
    "    \"\"\"\n",
    "    Soluzione sistemi con matrice dei coefficienti\n",
    "    triangolare inferiore, implementazione per righe\n",
    "    INPUT  = matrice L, termine noto b\n",
    "    OUTPUT = soluzione x\n",
    "    \n",
    "    \"\"\"\n",
    "    (n,m) = np.shape(b)\n",
    "    x = np.zeros((n,1))\n",
    "    x[0]=b[0]/L[0,0]\n",
    "    for i in range(1,n):\n",
    "        x[i]=(b[i] - np.dot(L[i,0:i],x[0:i]))/L[i,i]\n",
    "    return x\n",
    "\n",
    "n=20\n",
    "L  = np.tril(np.random.rand(n,n))\n",
    "xt = np.ones((n,1))\n",
    "b  = np.dot(L,xt)\n",
    "x  = solL(L,b)\n",
    "print('x')\n",
    "print(x)\n",
    "print('errore assoluto')\n",
    "print( abs(x-xt))"
   ]
  },
  {
   "cell_type": "code",
   "execution_count": 52,
   "metadata": {
    "collapsed": false
   },
   "outputs": [
    {
     "name": "stdout",
     "output_type": "stream",
     "text": [
      "[[ 4.  0.  1.  1.]\n",
      " [ 3.  1.  3.  1.]\n",
      " [ 0.  1.  2.  0.]\n",
      " [ 2.  2.  4.  1.]]\n"
     ]
    }
   ],
   "source": [
    "A0= np.matrix( [[4., 0, 1., 1.], \n",
    "[3., 1., 3., 1.],\n",
    "[0, 1., 2., 0],\n",
    "[2., 2., 4., 1.]])\n",
    "# copio la matrice A0 in A\n",
    "A=np.asmatrix(np.copy(A0))\n",
    "print(A)"
   ]
  },
  {
   "cell_type": "code",
   "execution_count": 53,
   "metadata": {
    "collapsed": false
   },
   "outputs": [
    {
     "name": "stdout",
     "output_type": "stream",
     "text": [
      "[[ 1.  0.  0.  0.]\n",
      " [ 0.  1.  0.  0.]\n",
      " [ 0.  0.  1.  0.]\n",
      " [ 0.  0.  0.  1.]]\n"
     ]
    }
   ],
   "source": [
    "\n",
    "# n contiene il numero di righe di A\n",
    "n=A.shape[0]\n",
    "#%%\n",
    "# inizializzo L\n",
    "L = np.asmatrix(np.zeros([n,n]))\n",
    "#%%\n",
    "# inizializzo P\n",
    "P=np.asmatrix(np.eye(n))\n",
    "print(P)"
   ]
  },
  {
   "cell_type": "code",
   "execution_count": 54,
   "metadata": {
    "collapsed": false
   },
   "outputs": [
    {
     "name": "stdout",
     "output_type": "stream",
     "text": [
      "0\n",
      "[[ 4.  0.  1.  1.]\n",
      " [ 3.  1.  3.  1.]\n",
      " [ 0.  1.  2.  0.]\n",
      " [ 2.  2.  4.  1.]]\n",
      "[[ 1.  0.  0.  0.]\n",
      " [ 0.  1.  0.  0.]\n",
      " [ 0.  0.  1.  0.]\n",
      " [ 0.  0.  0.  1.]]\n"
     ]
    }
   ],
   "source": [
    "# scegliamo il pivot\n",
    "\n",
    "indm=np.argmax(np.abs(A[:,0]))\n",
    "print(indm)\n",
    "# scambiamo le righe di A\n",
    "A[ [0,indm],:]=A[[indm,0],:]\n",
    "print(A)\n",
    "   \n",
    "# scambiamo le righe di P \n",
    "P[ [0, indm],:]=P[[indm,0],:]\n",
    "print(P)"
   ]
  },
  {
   "cell_type": "code",
   "execution_count": 55,
   "metadata": {
    "collapsed": false
   },
   "outputs": [
    {
     "name": "stdout",
     "output_type": "stream",
     "text": [
      "[[ 4.    0.    1.    1.  ]\n",
      " [ 0.    1.    2.25  0.25]\n",
      " [ 0.    1.    2.    0.  ]\n",
      " [ 0.    2.    3.5   0.5 ]]\n"
     ]
    }
   ],
   "source": [
    "# calcolo gli elementi di L \n",
    "L[1:n,0]=A[1:n,0]/A[0,0]\n",
    "\n",
    "# calcolo la U  riscrivendola in A\n",
    "# aggiorno la seconda riga a blocchi\n",
    "# \n",
    "A[1:n,1:n]=A[1:n,1:n]-(L[1:n,0]*A[0,1:n])\n",
    "A[1:n,0]=0\n",
    "print(A)"
   ]
  },
  {
   "cell_type": "code",
   "execution_count": 56,
   "metadata": {
    "collapsed": false
   },
   "outputs": [
    {
     "name": "stdout",
     "output_type": "stream",
     "text": [
      "[[ 0.  0.  0.  0.]\n",
      " [ 0.  0.  0.  0.]\n",
      " [ 0.  0.  0.  0.]\n",
      " [ 0.  0.  0.  0.]]\n"
     ]
    }
   ],
   "source": [
    "# verifichiamo\n",
    "print(P*A0 - (L+np.eye(n))*A)\n",
    "#%%"
   ]
  },
  {
   "cell_type": "code",
   "execution_count": 57,
   "metadata": {
    "collapsed": false
   },
   "outputs": [
    {
     "name": "stdout",
     "output_type": "stream",
     "text": [
      " -- matrice L dopo aggiornamento --\n",
      "[[ 0.    0.    0.    0.  ]\n",
      " [ 0.5   0.    0.    0.  ]\n",
      " [ 0.    0.5   0.    0.  ]\n",
      " [ 0.75  0.5   0.    0.  ]]\n",
      " -- matrice U dopo aggiornamento --\n",
      "[[ 4.    0.    1.    1.  ]\n",
      " [ 0.    2.    3.5   0.5 ]\n",
      " [ 0.    0.    0.25 -0.25]\n",
      " [ 0.    0.    0.5   0.  ]]\n",
      "-- verifica --\n",
      "[[ 0.  0.  0.  0.]\n",
      " [ 0.  0.  0.  0.]\n",
      " [ 0.  0.  0.  0.]\n",
      " [ 0.  0.  0.  0.]]\n"
     ]
    }
   ],
   "source": [
    "# ripeto il procedimento sulla sottomatrice  A(1:n,1:n)\n",
    "\n",
    "indm=np.argmax(abs(A[1:n,1]))\n",
    "indm = indm+1\n",
    "# scambiamo le righe di A\n",
    "A[ [1, indm],:]=A[[indm,1],:]\n",
    "# scambiamo le righe di P \n",
    "P[ [1, indm],:]=P[[indm,1],:]\n",
    "# scambiamo le righe di L\n",
    "L[ [1, indm],:]=L[[indm,1],:]\n",
    "# calcolo gli elementi di L \n",
    "L[2:n,1]=A[2:n,1]/A[1,1]\n",
    "print( ' -- matrice L dopo aggiornamento --')\n",
    "print(L)\n",
    "# calcolo la U  riscrivendola in A\n",
    "# \n",
    "A[2:n,2:n]=A[2:n,2:n]-L[2:n,1]*A[1,2:n]\n",
    "A[2:n,1]=0\n",
    "print( ' -- matrice U dopo aggiornamento --')\n",
    "print(A)\n",
    "# verifichiamo\n",
    "print('-- verifica --')\n",
    "print(P*A0 - (L+np.eye(n))*A)"
   ]
  },
  {
   "cell_type": "code",
   "execution_count": 58,
   "metadata": {
    "collapsed": false
   },
   "outputs": [
    {
     "name": "stdout",
     "output_type": "stream",
     "text": [
      "indm =  1\n",
      "indm =  3\n",
      " -- matrice A dopo permutazioni --\n",
      "[[ 4.    0.    1.    1.  ]\n",
      " [ 0.    2.    3.5   0.5 ]\n",
      " [ 0.    0.    0.5   0.  ]\n",
      " [ 0.    0.    0.25 -0.25]]\n",
      " -- matrice P dopo permutazioni --\n",
      "[[ 1.  0.  0.  0.]\n",
      " [ 0.  0.  0.  1.]\n",
      " [ 0.  1.  0.  0.]\n",
      " [ 0.  0.  1.  0.]]\n",
      " -- matrice L dopo permutazione --\n",
      "[[ 0.    0.    0.    0.  ]\n",
      " [ 0.5   0.    0.    0.  ]\n",
      " [ 0.75  0.5   0.    0.  ]\n",
      " [ 0.    0.5   0.    0.  ]]\n",
      " -- matrice L --\n",
      "[[ 0.    0.    0.    0.  ]\n",
      " [ 0.5   0.    0.    0.  ]\n",
      " [ 0.75  0.5   0.    0.  ]\n",
      " [ 0.    0.5   0.5   0.  ]]\n",
      " matrice U \n",
      "[[ 4.    0.    1.    1.  ]\n",
      " [ 0.    2.    3.5   0.5 ]\n",
      " [ 0.    0.    0.5   0.  ]\n",
      " [ 0.    0.    0.   -0.25]]\n",
      " --- verifica ---\n",
      "[[ 0.  0.  0.  0.]\n",
      " [ 0.  0.  0.  0.]\n",
      " [ 0.  0.  0.  0.]\n",
      " [ 0.  0.  0.  0.]]\n"
     ]
    }
   ],
   "source": [
    "\n",
    "indm=np.argmax(abs(A[2:n,2]))\n",
    "print('indm = ',indm)\n",
    "indm = indm+2\n",
    "print('indm = ',indm)\n",
    "# scambiamo le righe di A\n",
    "A[ [2, indm],:]=A[[indm,2],:]\n",
    "print( ' -- matrice A dopo permutazioni --')\n",
    "print(A)   \n",
    "# scambiamo le righe di P \n",
    "P[ [2, indm],:]=P[[indm,2],:]\n",
    "print( ' -- matrice P dopo permutazioni --')\n",
    "print(P)\n",
    "# scambiamo le righe di L\n",
    "L[ [2, indm],:]=L[[indm,2],:]\n",
    "print(' -- matrice L dopo permutazione --')\n",
    "print(L)\n",
    "# calcolo gli elementi di L \n",
    "L[3:n,2]=A[3:n,2]/A[2,2]\n",
    "print(' -- matrice L --')\n",
    "print(L)\n",
    "# calcolo la U  riscrivendola in A\n",
    "# \n",
    "A[3:n,3:n]=A[3:n,3:n]-L[3:n,2]*A[2,3:n]\n",
    "A[3:n,2]=0\n",
    "print( ' matrice U ')\n",
    "print(A)\n",
    "# verifichiamo\n",
    "print(' --- verifica ---')\n",
    "print(P*A0 - (L+np.eye(n))*A)\n",
    "L= L+np.eye(n)\n",
    "U=A"
   ]
  },
  {
   "cell_type": "markdown",
   "metadata": {},
   "source": [
    "Esercizio: scrivere una function che data una matrice A in input, esegue la fattorizzazione LU con pivot parziale. "
   ]
  },
  {
   "cell_type": "markdown",
   "metadata": {},
   "source": [
    "Risolviamo un sistema lineare con matrice dei coefficienti\n",
    "la matrice di Hilbert.La matrice viene costruita nel modulo linalgmod.\n",
    "Il termine noto lo scegliamo in modo che la soluzione x\n",
    "sia il vettore di tutti  uno."
   ]
  },
  {
   "cell_type": "code",
   "execution_count": 65,
   "metadata": {
    "collapsed": false
   },
   "outputs": [],
   "source": [
    "n = 20\n",
    "A = linalgmod.hilb(n)\n",
    "#print(A)\n",
    "x = np.ones( (n,1))\n",
    "b = np.dot(A,x)\n",
    "#print(b)"
   ]
  },
  {
   "cell_type": "markdown",
   "metadata": {},
   "source": [
    "risolviamo il sistema, calcoliamo il residuo e l'errore assoluto"
   ]
  },
  {
   "cell_type": "code",
   "execution_count": 66,
   "metadata": {
    "collapsed": false
   },
   "outputs": [],
   "source": [
    "xa = np.linalg.solve(A,b)\n",
    "xb = la.solve(A,b)"
   ]
  },
  {
   "cell_type": "code",
   "execution_count": 67,
   "metadata": {
    "collapsed": false
   },
   "outputs": [
    {
     "name": "stdout",
     "output_type": "stream",
     "text": [
      "326.396081414\n",
      "326.396081414\n"
     ]
    }
   ],
   "source": [
    "print(la.norm(x-xa,2))\n",
    "print(la.norm(x-xb,2))"
   ]
  },
  {
   "cell_type": "markdown",
   "metadata": {},
   "source": [
    "Stampiamo il numero di condizione di A. Il numero di condizione nella soluzione di un sistema lineare ci dice come una perturbazione sui dati di input (A e b) si ripercuote sul risultato (xa). Il numero di condizione $$\\kappa(A) = \\| A \\| \\| A^{-1}\\|$$ "
   ]
  },
  {
   "cell_type": "code",
   "execution_count": null,
   "metadata": {
    "collapsed": false
   },
   "outputs": [],
   "source": [
    "np.linalg.cond(A)"
   ]
  },
  {
   "cell_type": "markdown",
   "metadata": {},
   "source": [
    "la matrice di Hilbert è mal condizionata"
   ]
  },
  {
   "cell_type": "code",
   "execution_count": null,
   "metadata": {
    "collapsed": false
   },
   "outputs": [],
   "source": [
    "Possiamo anche prima fattorizzare la matrice a poi risolvere i sistemi\n",
    "lineari usando la fattorizzazione. La fattorizzazione usata dagli \n",
    "algoritmi classici è la fattorizzazione LU con pivot"
   ]
  },
  {
   "cell_type": "code",
   "execution_count": null,
   "metadata": {
    "collapsed": false
   },
   "outputs": [],
   "source": [
    "#%%\n",
    "# function lu di scipy\n",
    "p,l,u=la.lu(A)\n",
    "la.norm(A-np.dot(np.dot(p,l),u),1)\n"
   ]
  },
  {
   "cell_type": "code",
   "execution_count": null,
   "metadata": {
    "collapsed": false
   },
   "outputs": [],
   "source": [
    "np.linalg.cond(l)"
   ]
  },
  {
   "cell_type": "code",
   "execution_count": null,
   "metadata": {
    "collapsed": false
   },
   "outputs": [],
   "source": [
    "np.linalg.cond(u)"
   ]
  },
  {
   "cell_type": "code",
   "execution_count": null,
   "metadata": {
    "collapsed": false
   },
   "outputs": [],
   "source": [
    "# function lu della libreria lapack\n",
    "x1=la.solve(A,b)\n",
    "lu,piv=la.lu_factor(A)\n",
    "# piv contiene il vettore delle permutazioni\n",
    "# la riga i e' stata cambiata con la riga piv[i\n"
   ]
  },
  {
   "cell_type": "code",
   "execution_count": null,
   "metadata": {
    "collapsed": false
   },
   "outputs": [],
   "source": [
    "x2=la.lu_solve((lu,piv),b)\n",
    "la.norm(x2-x,2)"
   ]
  },
  {
   "cell_type": "markdown",
   "metadata": {},
   "source": [
    "visualizziamo il residuo. Un residuo piccolo non implica un errore piccolo se la matrice è mal condizionata."
   ]
  },
  {
   "cell_type": "code",
   "execution_count": null,
   "metadata": {
    "collapsed": false
   },
   "outputs": [],
   "source": [
    "la.norm(np.dot(A,x2)-b,2)"
   ]
  },
  {
   "cell_type": "code",
   "execution_count": null,
   "metadata": {
    "collapsed": false
   },
   "outputs": [],
   "source": []
  }
 ],
 "metadata": {
  "kernelspec": {
   "display_name": "Python 2",
   "language": "python",
   "name": "python2"
  },
  "language_info": {
   "codemirror_mode": {
    "name": "ipython",
    "version": 2
   },
   "file_extension": ".py",
   "mimetype": "text/x-python",
   "name": "python",
   "nbconvert_exporter": "python",
   "pygments_lexer": "ipython2",
   "version": "2.7.5"
  }
 },
 "nbformat": 4,
 "nbformat_minor": 0
}
