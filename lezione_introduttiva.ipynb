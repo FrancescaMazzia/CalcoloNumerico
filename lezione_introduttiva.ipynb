{
 "metadata": {
  "name": "",
  "signature": "sha256:ba7f2be2928c188cf7fda2b273ac843573757d83d25c29e7093e97e0a9db59c1"
 },
 "nbformat": 3,
 "nbformat_minor": 0,
 "worksheets": [
  {
   "cells": [
    {
     "cell_type": "heading",
     "level": 1,
     "metadata": {},
     "source": [
      "Introduzione al Python per il calcolo scientifico."
     ]
    },
    {
     "cell_type": "markdown",
     "metadata": {},
     "source": [
      "28/11/2014\n",
      "\n",
      "docente: Francesca Mazzia\n",
      "\n",
      "Il materiale \u00e8 distribuito con licenza\n",
      "Creative Commons Attribuzione-Non commerciale-Non Opere Derivate 2.5 Italy License http://creativecommons.org/licenses/by-nc-nd/2.5/it/"
     ]
    },
    {
     "cell_type": "heading",
     "level": 1,
     "metadata": {
      "slideshow": {
       "slide_type": "-"
      }
     },
     "source": [
      "Python"
     ]
    },
    {
     "cell_type": "markdown",
     "metadata": {
      "slideshow": {
       "slide_type": "-"
      }
     },
     "source": [
      "Linguaggio di programmazione  ad alte prestazioni che pu\u00f2 essere utilizzato in modo efficiente anche  per il calcolo scientifico.\n",
      " \n",
      "Le istruzione Python possono essere eseguito utilizzando alcune IDE come spyder  o IPython e associandolo a pacchetti quali numpy, scipy, simpy,  diventa un potenete strumento di calcolo scientifico, confrontabile con Matlab, Octave o R per quanto riguarda la facilit\u00e0 di utilizzo ma con prestazioni che possono essere  molto pi\u00f9 efficienti.  Fra i linguaggi di alto livello l'unico che lo supera per prestazioni\n",
      "\u00e8 il nuovissimo linguaggio di nome Julia. Per il calcolo scientifico il Fortran rimane comunque il linguaggio pi\u00f9 efficienti al pari del c, ma il livello di difficolt\u00e0  per  scrivere un codice in Fortran o c \u00e8 sicuramente molto pi\u00f9 elevato di quello richiesto per Python."
     ]
    },
    {
     "cell_type": "markdown",
     "metadata": {},
     "source": [
      "Possiamo eseguire alcune istruzioni Python usando una interfaccia come Ipython o Spyder,\n",
      "entrati in questo ambiente compare il prompt, il che significa che il calcolatore \\`e pronto a ricevere le\n",
      "istruzioni Python ed ad eseguirle.  \n",
      "Se vogliamo eseguire la somma 3+2 basta\n",
      "scrivere l'istruzione e premere il tasto invio. \n",
      "Otteniamo immediatamente la risposta."
     ]
    },
    {
     "cell_type": "code",
     "collapsed": true,
     "input": [
      "3+2"
     ],
     "language": "python",
     "metadata": {},
     "outputs": [
      {
       "metadata": {},
       "output_type": "pyout",
       "prompt_number": 1,
       "text": [
        "5"
       ]
      }
     ],
     "prompt_number": 1
    },
    {
     "cell_type": "markdown",
     "metadata": {},
     "source": [
      "e il calcolatore \u00e8 di nuovo pronto a ricevere un nuovo comando. Se vogliamo assegnare il risultato dell'operazione alla variabile di nome var\n",
      "basta scrivere:"
     ]
    },
    {
     "cell_type": "code",
     "collapsed": true,
     "input": [
      "var = 3+2\n",
      "var"
     ],
     "language": "python",
     "metadata": {},
     "outputs": [
      {
       "metadata": {},
       "output_type": "pyout",
       "prompt_number": 2,
       "text": [
        "5"
       ]
      }
     ],
     "prompt_number": 2
    },
    {
     "cell_type": "markdown",
     "metadata": {},
     "source": [
      "Questa istruzione si chiama **istruzione di assegnazione**. Il risultato dell'operazione non viene visualizzato. Per visualizzare il risultato dobbiamo digitare al prompt il nome della variabile oppure scrivere una istruzione di stampa:\n"
     ]
    },
    {
     "cell_type": "code",
     "collapsed": true,
     "input": [
      "print(var)"
     ],
     "language": "python",
     "metadata": {},
     "outputs": [
      {
       "output_type": "stream",
       "stream": "stdout",
       "text": [
        "5\n"
       ]
      }
     ],
     "prompt_number": 3
    },
    {
     "cell_type": "markdown",
     "metadata": {},
     "source": [
      "Possiamo assegnare a una variabile il valore di una espressione pi\u00f9 complicata.  Per\n",
      "far questo dobbiamo sapere a quali simboli corrispondono le principali\n",
      "operazioni aritmetico-logiche:\n",
      "\n",
      "\n",
      "* $+$    addizione\n",
      "* $-$    sottrazione \n",
      "* $*$    moltiplicazione \n",
      "* $/$     divisione \n",
      "* $//$   divisione intera\n",
      "* $**$    elevamento a potenza \n",
      "* &     and logico \n",
      "* |     or logico \n",
      "* ~     not logico \n",
      "* ==    uguale  \n",
      "* !     diverso \n",
      "* $<>$    diverso\n",
      "* $<$     minore \n",
      "* $<=$    minore uguale \n",
      "* $>$     maggiore\n",
      "* $>=$    maggiore uguale\n",
      "\n",
      "Le espressioni aritmetiche e logiche seguono le classiche regole di precedenza,\n",
      "che \u00e8 possibile modificare utilizzando le parentesi tonde.\n",
      "\n",
      "Per avere informazioni su tutte le operazioni che possono essere eseguite in\n",
      "Python si pu\u00f2 consultare The Python Language Reference, che in spyder si ottiene digitando \n",
      "dal tasto $?$  il link alla Python documentation. La funzione help() permette di aprire un help interattivo sulle console di IPython e \n",
      "di spyder. In IPython si pu\u00f2 digitare anche il nome di una funzione seguito dal ?.\n",
      "\n"
     ]
    },
    {
     "cell_type": "code",
     "collapsed": true,
     "input": [
      "help?"
     ],
     "language": "python",
     "metadata": {},
     "outputs": [],
     "prompt_number": 4
    },
    {
     "cell_type": "code",
     "collapsed": true,
     "input": [
      "help('==')"
     ],
     "language": "python",
     "metadata": {},
     "outputs": [
      {
       "output_type": "stream",
       "stream": "stdout",
       "text": [
        "Comparisons\n",
        "***********\n",
        "\n",
        "Unlike C, all comparison operations in Python have the same priority,\n",
        "which is lower than that of any arithmetic, shifting or bitwise\n",
        "operation.  Also unlike C, expressions like \"a < b < c\" have the\n",
        "interpretation that is conventional in mathematics:\n",
        "\n",
        "   comparison    ::= or_expr ( comp_operator or_expr )*\n",
        "   comp_operator ::= \"<\" | \">\" | \"==\" | \">=\" | \"<=\" | \"<>\" | \"!=\"\n",
        "                     | \"is\" [\"not\"] | [\"not\"] \"in\"\n",
        "\n",
        "Comparisons yield boolean values: \"True\" or \"False\".\n",
        "\n",
        "Comparisons can be chained arbitrarily, e.g., \"x < y <= z\" is\n",
        "equivalent to \"x < y and y <= z\", except that \"y\" is evaluated only\n",
        "once (but in both cases \"z\" is not evaluated at all when \"x < y\" is\n",
        "found to be false).\n",
        "\n",
        "Formally, if *a*, *b*, *c*, ..., *y*, *z* are expressions and *op1*,\n",
        "*op2*, ..., *opN* are comparison operators, then \"a op1 b op2 c ... y\n",
        "opN z\" is equivalent to \"a op1 b and b op2 c and ... y opN z\", except\n",
        "that each expression is evaluated at most once.\n",
        "\n",
        "Note that \"a op1 b op2 c\" doesn't imply any kind of comparison between\n",
        "*a* and *c*, so that, e.g., \"x < y > z\" is perfectly legal (though\n",
        "perhaps not pretty).\n",
        "\n",
        "The forms \"<>\" and \"!=\" are equivalent; for consistency with C, \"!=\"\n",
        "is preferred; where \"!=\" is mentioned below \"<>\" is also accepted.\n",
        "The \"<>\" spelling is considered obsolescent.\n",
        "\n",
        "The operators \"<\", \">\", \"==\", \">=\", \"<=\", and \"!=\" compare the values\n",
        "of two objects.  The objects need not have the same type. If both are\n",
        "numbers, they are converted to a common type.  Otherwise, objects of\n",
        "different types *always* compare unequal, and are ordered consistently\n",
        "but arbitrarily. You can control comparison behavior of objects of\n",
        "non-built-in types by defining a \"__cmp__\" method or rich comparison\n",
        "methods like \"__gt__\", described in section Special method names.\n",
        "\n",
        "(This unusual definition of comparison was used to simplify the\n",
        "definition of operations like sorting and the \"in\" and \"not in\"\n",
        "operators. In the future, the comparison rules for objects of\n",
        "different types are likely to change.)\n",
        "\n",
        "Comparison of objects of the same type depends on the type:\n",
        "\n",
        "* Numbers are compared arithmetically.\n",
        "\n",
        "* Strings are compared lexicographically using the numeric\n",
        "  equivalents (the result of the built-in function \"ord()\") of their\n",
        "  characters. Unicode and 8-bit strings are fully interoperable in\n",
        "  this behavior. [4]\n",
        "\n",
        "* Tuples and lists are compared lexicographically using comparison\n",
        "  of corresponding elements.  This means that to compare equal, each\n",
        "  element must compare equal and the two sequences must be of the same\n",
        "  type and have the same length.\n",
        "\n",
        "  If not equal, the sequences are ordered the same as their first\n",
        "  differing elements.  For example, \"cmp([1,2,x], [1,2,y])\" returns\n",
        "  the same as \"cmp(x,y)\".  If the corresponding element does not\n",
        "  exist, the shorter sequence is ordered first (for example, \"[1,2] <\n",
        "  [1,2,3]\").\n",
        "\n",
        "* Mappings (dictionaries) compare equal if and only if their sorted\n",
        "  (key, value) lists compare equal. [5] Outcomes other than equality\n",
        "  are resolved consistently, but are not otherwise defined. [6]\n",
        "\n",
        "* Most other objects of built-in types compare unequal unless they\n",
        "  are the same object; the choice whether one object is considered\n",
        "  smaller or larger than another one is made arbitrarily but\n",
        "  consistently within one execution of a program.\n",
        "\n",
        "The operators \"in\" and \"not in\" test for collection membership.  \"x in\n",
        "s\" evaluates to true if *x* is a member of the collection *s*, and\n",
        "false otherwise.  \"x not in s\" returns the negation of \"x in s\". The\n",
        "collection membership test has traditionally been bound to sequences;\n",
        "an object is a member of a collection if the collection is a sequence\n",
        "and contains an element equal to that object.  However, it make sense\n",
        "for many other object types to support membership tests without being\n",
        "a sequence.  In particular, dictionaries (for keys) and sets support\n",
        "membership testing.\n",
        "\n",
        "For the list and tuple types, \"x in y\" is true if and only if there\n",
        "exists an index *i* such that \"x == y[i]\" is true.\n",
        "\n",
        "For the Unicode and string types, \"x in y\" is true if and only if *x*\n",
        "is a substring of *y*.  An equivalent test is \"y.find(x) != -1\".\n",
        "Note, *x* and *y* need not be the same type; consequently, \"u'ab' in\n",
        "'abc'\" will return \"True\". Empty strings are always considered to be a\n",
        "substring of any other string, so \"\"\" in \"abc\"\" will return \"True\".\n",
        "\n",
        "Changed in version 2.3: Previously, *x* was required to be a string of\n",
        "length \"1\".\n",
        "\n",
        "For user-defined classes which define the \"__contains__()\" method, \"x\n",
        "in y\" is true if and only if \"y.__contains__(x)\" is true.\n",
        "\n",
        "For user-defined classes which do not define \"__contains__()\" but do\n",
        "define \"__iter__()\", \"x in y\" is true if some value \"z\" with \"x == z\"\n",
        "is produced while iterating over \"y\".  If an exception is raised\n",
        "during the iteration, it is as if \"in\" raised that exception.\n",
        "\n",
        "Lastly, the old-style iteration protocol is tried: if a class defines\n",
        "\"__getitem__()\", \"x in y\" is true if and only if there is a non-\n",
        "negative integer index *i* such that \"x == y[i]\", and all lower\n",
        "integer indices do not raise \"IndexError\" exception. (If any other\n",
        "exception is raised, it is as if \"in\" raised that exception).\n",
        "\n",
        "The operator \"not in\" is defined to have the inverse true value of\n",
        "\"in\".\n",
        "\n",
        "The operators \"is\" and \"is not\" test for object identity: \"x is y\" is\n",
        "true if and only if *x* and *y* are the same object.  \"x is not y\"\n",
        "yields the inverse truth value. [7]\n",
        "\n",
        "Related help topics: EXPRESSIONS, BASICMETHODS, OPERATORS\n",
        "\n"
       ]
      }
     ],
     "prompt_number": 5
    },
    {
     "cell_type": "markdown",
     "metadata": {},
     "source": [
      "Possiamo ora eseguire, per calcolare $$\\frac{5 \\cdot 2}{(3+2)^2}$$\n"
     ]
    },
    {
     "cell_type": "code",
     "collapsed": true,
     "input": [
      "var=5*3/(3+2)**2 \n",
      "print(var)\n",
      "type(var)"
     ],
     "language": "python",
     "metadata": {},
     "outputs": [
      {
       "output_type": "stream",
       "stream": "stdout",
       "text": [
        "0\n"
       ]
      },
      {
       "metadata": {},
       "output_type": "pyout",
       "prompt_number": 6,
       "text": [
        "int"
       ]
      }
     ],
     "prompt_number": 6
    },
    {
     "cell_type": "markdown",
     "metadata": {},
     "source": [
      "se state usando 2.7 il risultato e' zero la divisione viene eseguita fra interi perch\u00e8 tutte le costanti sono intere. Questa e' una caratteristica di Python 2.7.  Per avere un risultato reale e' importante usare costanti reali. Calcoliamo $$\\frac{5 \\cdot 2}{(3+2)^2}$$"
     ]
    },
    {
     "cell_type": "code",
     "collapsed": true,
     "input": [
      "var=5.*3./(3.+2.)**2. \n",
      "print(var)\n",
      "type(var)"
     ],
     "language": "python",
     "metadata": {},
     "outputs": [
      {
       "output_type": "stream",
       "stream": "stdout",
       "text": [
        "0.6\n"
       ]
      },
      {
       "metadata": {},
       "output_type": "pyout",
       "prompt_number": 7,
       "text": [
        "float"
       ]
      }
     ],
     "prompt_number": 7
    },
    {
     "cell_type": "markdown",
     "metadata": {},
     "source": [
      "Per poter lavorare in python 2.7 come in Python 3 si  utilizza l'istruzione divisione analoga a quella di Python 3."
     ]
    },
    {
     "cell_type": "code",
     "collapsed": true,
     "input": [
      "from __future__ import division\n",
      "var=5*3/(3+2)**2 \n",
      "print(var)\n",
      "type(var)\n"
     ],
     "language": "python",
     "metadata": {},
     "outputs": [
      {
       "output_type": "stream",
       "stream": "stdout",
       "text": [
        "0.6\n"
       ]
      },
      {
       "metadata": {},
       "output_type": "pyout",
       "prompt_number": 9,
       "text": [
        "float"
       ]
      }
     ],
     "prompt_number": 9
    },
    {
     "cell_type": "markdown",
     "metadata": {},
     "source": [
      "Un'altra sostanziale differenza fra Python 2.7 e Python 3 e' nella funzione print. Se usate Python 2.7 importate  la funzione print di Python 3:"
     ]
    },
    {
     "cell_type": "code",
     "collapsed": true,
     "input": [
      "from __future__ import print_function\n",
      "print?"
     ],
     "language": "python",
     "metadata": {},
     "outputs": [],
     "prompt_number": 10
    },
    {
     "cell_type": "code",
     "collapsed": true,
     "input": [
      "var=5*3/(3+2)**2 \n",
      "print('var = ',var)\n",
      "type(var)"
     ],
     "language": "python",
     "metadata": {},
     "outputs": [
      {
       "output_type": "stream",
       "stream": "stdout",
       "text": [
        "var =  0.6\n"
       ]
      },
      {
       "metadata": {},
       "output_type": "pyout",
       "prompt_number": 12,
       "text": [
        "float"
       ]
      }
     ],
     "prompt_number": 12
    },
    {
     "cell_type": "markdown",
     "metadata": {},
     "source": [
      "Si possono  calcolare i valori delle principali funzioni. Ad\n",
      "esempio sono predefinite le funzioni in una variabile:\n",
      "\n",
      "\n",
      "* abs(x)  valore assoluto di x     \n",
      "* log(x)  logaritmo naturale          \n",
      "* exp(x)  esponenziale  $e^x$\n",
      "* sin(x)  seno,                        \n",
      "* cos(x)  coseno,                      \n",
      "* tan(x)  tangente.\n",
      "\n",
      "La maggior parte delle funzioni aritmetiche fanno parte del modulo numpy.\n",
      "Per poter utilizzare il modulo numpy bisogna, dopo averlo installato importarlo,\n",
      "se si usa python in ambiente spyder numpy \u00e8 automaticamente  importato all'avvio della console.\n",
      "Le istuzioni per importare il modulo numpy sono, per esempio:\n"
     ]
    },
    {
     "cell_type": "code",
     "collapsed": true,
     "input": [
      "import numpy as np"
     ],
     "language": "python",
     "metadata": {},
     "outputs": [],
     "prompt_number": 13
    },
    {
     "cell_type": "markdown",
     "metadata": {},
     "source": [
      "\n",
      "Tutti i metodi e le funzioni  di numpy devono essere precedute da np. per poter essere eseguite."
     ]
    },
    {
     "cell_type": "code",
     "collapsed": true,
     "input": [
      "var = (5 * 3/(3+np.cos(5)))**np.log(2) * 100 \n",
      "print('var = ',var)\n",
      "type(var)"
     ],
     "language": "python",
     "metadata": {},
     "outputs": [
      {
       "output_type": "stream",
       "stream": "stdout",
       "text": [
        "var =  286.610384332\n"
       ]
      },
      {
       "metadata": {},
       "output_type": "pyout",
       "prompt_number": 14,
       "text": [
        "numpy.float64"
       ]
      }
     ],
     "prompt_number": 14
    },
    {
     "cell_type": "code",
     "collapsed": true,
     "input": [
      "var = (5 * 3/(3+cos(5)))**log(2) * 100 \n",
      "var\n",
      "type(var)"
     ],
     "language": "python",
     "metadata": {},
     "outputs": [
      {
       "ename": "NameError",
       "evalue": "name 'cos' is not defined",
       "output_type": "pyerr",
       "traceback": [
        "\u001b[0;31m---------------------------------------------------------------------------\u001b[0m\n\u001b[0;31mNameError\u001b[0m                                 Traceback (most recent call last)",
        "\u001b[0;32m<ipython-input-15-8375d53a4c3f>\u001b[0m in \u001b[0;36m<module>\u001b[0;34m()\u001b[0m\n\u001b[0;32m----> 1\u001b[0;31m \u001b[0mvar\u001b[0m \u001b[0;34m=\u001b[0m \u001b[0;34m(\u001b[0m\u001b[0;36m5\u001b[0m \u001b[0;34m*\u001b[0m \u001b[0;36m3\u001b[0m\u001b[0;34m/\u001b[0m\u001b[0;34m(\u001b[0m\u001b[0;36m3\u001b[0m\u001b[0;34m+\u001b[0m\u001b[0mcos\u001b[0m\u001b[0;34m(\u001b[0m\u001b[0;36m5\u001b[0m\u001b[0;34m)\u001b[0m\u001b[0;34m)\u001b[0m\u001b[0;34m)\u001b[0m\u001b[0;34m**\u001b[0m\u001b[0mlog\u001b[0m\u001b[0;34m(\u001b[0m\u001b[0;36m2\u001b[0m\u001b[0;34m)\u001b[0m \u001b[0;34m*\u001b[0m \u001b[0;36m100\u001b[0m\u001b[0;34m\u001b[0m\u001b[0m\n\u001b[0m\u001b[1;32m      2\u001b[0m \u001b[0mvar\u001b[0m\u001b[0;34m\u001b[0m\u001b[0m\n\u001b[1;32m      3\u001b[0m \u001b[0mtype\u001b[0m\u001b[0;34m(\u001b[0m\u001b[0mvar\u001b[0m\u001b[0;34m)\u001b[0m\u001b[0;34m\u001b[0m\u001b[0m\n",
        "\u001b[0;31mNameError\u001b[0m: name 'cos' is not defined"
       ]
      }
     ],
     "prompt_number": 15
    },
    {
     "cell_type": "markdown",
     "metadata": {},
     "source": [
      "\n",
      "Sono di particolare utilit\u00e0 anche alcune  *costanti*. Le\n",
      "costanti sono dei contenitori di valori che non cambiano nel corso\n",
      "dell'esecuzione di un algoritmo. In numpy vi sono delle costanti predefinite,\n",
      "come, ad esempio, la costante np.pi  che contiene il valore di $\\pi$:\n"
     ]
    },
    {
     "cell_type": "code",
     "collapsed": true,
     "input": [
      "np.pi"
     ],
     "language": "python",
     "metadata": {},
     "outputs": [
      {
       "metadata": {},
       "output_type": "pyout",
       "prompt_number": 16,
       "text": [
        "3.141592653589793"
       ]
      }
     ],
     "prompt_number": 16
    },
    {
     "cell_type": "markdown",
     "metadata": {},
     "source": [
      "Esiste anche il modulo math che permette di lavorare con le funzioni standard. Anche questo modulo va importato prima di essere utilizzato:\n"
     ]
    },
    {
     "cell_type": "code",
     "collapsed": true,
     "input": [
      "import math as mt\n"
     ],
     "language": "python",
     "metadata": {},
     "outputs": [],
     "prompt_number": 17
    },
    {
     "cell_type": "code",
     "collapsed": true,
     "input": [
      "var = (5 * 3/(3+mt.cos(5)))**mt.log(2) * 100 \n",
      "print('var = ', var)\n",
      "type(var)"
     ],
     "language": "python",
     "metadata": {},
     "outputs": [
      {
       "output_type": "stream",
       "stream": "stdout",
       "text": [
        "var =  286.610384332\n"
       ]
      },
      {
       "metadata": {},
       "output_type": "pyout",
       "prompt_number": 18,
       "text": [
        "float"
       ]
      }
     ],
     "prompt_number": 18
    },
    {
     "cell_type": "markdown",
     "metadata": {},
     "source": [
      "Le istruzioni possone essere inserite in un file di tipo script"
     ]
    },
    {
     "cell_type": "code",
     "collapsed": true,
     "input": [
      "%run stampavar"
     ],
     "language": "python",
     "metadata": {},
     "outputs": [
      {
       "name": "stdout",
       "output_type": "stream",
       "stream": "stdout",
       "text": [
        "var  = 3\n"
       ]
      },
      {
       "output_type": "stream",
       "stream": "stdout",
       "text": [
        "3\n"
       ]
      }
     ],
     "prompt_number": 20
    },
    {
     "cell_type": "markdown",
     "metadata": {},
     "source": [
      "Le variabili possono essere di tipi diversi. Le operazioni automaticamente cambiano i tipi di dati. La function type permette di controllare il tipo del dato. "
     ]
    },
    {
     "cell_type": "heading",
     "level": 3,
     "metadata": {},
     "source": [
      "Tipo Intero"
     ]
    },
    {
     "cell_type": "code",
     "collapsed": true,
     "input": [
      "n=3\n",
      "print(n)\n",
      "type(n)"
     ],
     "language": "python",
     "metadata": {},
     "outputs": [
      {
       "output_type": "stream",
       "stream": "stdout",
       "text": [
        "3\n"
       ]
      },
      {
       "metadata": {},
       "output_type": "pyout",
       "prompt_number": 21,
       "text": [
        "int"
       ]
      }
     ],
     "prompt_number": 21
    },
    {
     "cell_type": "code",
     "collapsed": true,
     "input": [
      "n=10**50\n",
      "print(n)\n",
      "type(n)"
     ],
     "language": "python",
     "metadata": {},
     "outputs": [
      {
       "output_type": "stream",
       "stream": "stdout",
       "text": [
        "100000000000000000000000000000000000000000000000000\n"
       ]
      },
      {
       "metadata": {},
       "output_type": "pyout",
       "prompt_number": 22,
       "text": [
        "long"
       ]
      }
     ],
     "prompt_number": 22
    },
    {
     "cell_type": "code",
     "collapsed": true,
     "input": [
      "n = np.int(3)\n",
      "type(n)"
     ],
     "language": "python",
     "metadata": {},
     "outputs": [
      {
       "metadata": {},
       "output_type": "pyout",
       "prompt_number": 23,
       "text": [
        "int"
       ]
      }
     ],
     "prompt_number": 23
    },
    {
     "cell_type": "code",
     "collapsed": true,
     "input": [
      "n = np.int(10**30)\n",
      "type(n)"
     ],
     "language": "python",
     "metadata": {},
     "outputs": [
      {
       "metadata": {},
       "output_type": "pyout",
       "prompt_number": 24,
       "text": [
        "long"
       ]
      }
     ],
     "prompt_number": 24
    },
    {
     "cell_type": "heading",
     "level": 3,
     "metadata": {},
     "source": [
      "Reali "
     ]
    },
    {
     "cell_type": "code",
     "collapsed": true,
     "input": [
      "type(3.9)"
     ],
     "language": "python",
     "metadata": {},
     "outputs": [
      {
       "metadata": {},
       "output_type": "pyout",
       "prompt_number": 25,
       "text": [
        "float"
       ]
      }
     ],
     "prompt_number": 25
    },
    {
     "cell_type": "code",
     "collapsed": true,
     "input": [
      "v=np.float32(1.0)\n",
      "v"
     ],
     "language": "python",
     "metadata": {},
     "outputs": [
      {
       "metadata": {},
       "output_type": "pyout",
       "prompt_number": 26,
       "text": [
        "1.0"
       ]
      }
     ],
     "prompt_number": 26
    },
    {
     "cell_type": "code",
     "collapsed": true,
     "input": [
      "type(v)"
     ],
     "language": "python",
     "metadata": {},
     "outputs": [
      {
       "metadata": {},
       "output_type": "pyout",
       "prompt_number": 27,
       "text": [
        "numpy.float32"
       ]
      }
     ],
     "prompt_number": 27
    },
    {
     "cell_type": "code",
     "collapsed": true,
     "input": [
      "x=np.float64(1.0)\n",
      "type(x)"
     ],
     "language": "python",
     "metadata": {},
     "outputs": [
      {
       "metadata": {},
       "output_type": "pyout",
       "prompt_number": 28,
       "text": [
        "numpy.float64"
       ]
      }
     ],
     "prompt_number": 28
    },
    {
     "cell_type": "markdown",
     "metadata": {},
     "source": [
      "Possiamo decidere il comportamento da assumere quando si verifica una operazione invalida, di default si ignora l'errore"
     ]
    },
    {
     "cell_type": "code",
     "collapsed": true,
     "input": [
      "x=np.float32(0.0)\n",
      "y=np.float32(1.0)\n",
      "np.seterr(all='ignore')\n",
      "z= y/x\n",
      "print('z = ',z )  \n"
     ],
     "language": "python",
     "metadata": {},
     "outputs": [
      {
       "output_type": "stream",
       "stream": "stdout",
       "text": [
        "z =  inf\n"
       ]
      }
     ],
     "prompt_number": 29
    },
    {
     "cell_type": "code",
     "collapsed": true,
     "input": [
      " s= x/x\n",
      " print( 's = %(s)10.00f' % {\"s\":s})\n"
     ],
     "language": "python",
     "metadata": {},
     "outputs": [
      {
       "output_type": "stream",
       "stream": "stdout",
       "text": [
        "s =        nan\n"
       ]
      }
     ],
     "prompt_number": 30
    },
    {
     "cell_type": "markdown",
     "metadata": {},
     "source": [
      "La precisione di macchina e' il pi\u00f9 piccolo numero positivo  che aggiunto ad uno ci genera il successivo numero di macchina, usando 32 bit   \u00e8:"
     ]
    },
    {
     "cell_type": "code",
     "collapsed": true,
     "input": [
      " np.finfo(x).eps"
     ],
     "language": "python",
     "metadata": {},
     "outputs": [
      {
       "metadata": {},
       "output_type": "pyout",
       "prompt_number": 32,
       "text": [
        "1.1920929e-07"
       ]
      }
     ],
     "prompt_number": 32
    },
    {
     "cell_type": "markdown",
     "metadata": {},
     "source": [
      "Il pi\u00f9 piccolo numero floating point positivo  usando la rappresentazione a 32 bit \u00e8"
     ]
    },
    {
     "cell_type": "code",
     "collapsed": true,
     "input": [
      "np.finfo(x).tiny"
     ],
     "language": "python",
     "metadata": {},
     "outputs": [
      {
       "metadata": {},
       "output_type": "pyout",
       "prompt_number": 33,
       "text": [
        "1.1754944e-38"
       ]
      }
     ],
     "prompt_number": 33
    },
    {
     "cell_type": "markdown",
     "metadata": {},
     "source": [
      "Il massimo numero floating point positivo usando la rappresentazione a 32 bit \u00e8:"
     ]
    },
    {
     "cell_type": "code",
     "collapsed": true,
     "input": [
      "np.finfo(x).max"
     ],
     "language": "python",
     "metadata": {},
     "outputs": [
      {
       "metadata": {},
       "output_type": "pyout",
       "prompt_number": 34,
       "text": [
        "3.4028235e+38"
       ]
      }
     ],
     "prompt_number": 34
    },
    {
     "cell_type": "code",
     "collapsed": true,
     "input": [
      "type(np.finfo(x).max)"
     ],
     "language": "python",
     "metadata": {},
     "outputs": [
      {
       "metadata": {},
       "output_type": "pyout",
       "prompt_number": 35,
       "text": [
        "numpy.float32"
       ]
      }
     ],
     "prompt_number": 35
    },
    {
     "cell_type": "markdown",
     "metadata": {},
     "source": [
      "In questo caso  \u00e8 possibile usare dei numeri pi\u00f9 grandi, infatti si passa automaticamente alla rappresentazione floating point a 64 bit"
     ]
    },
    {
     "cell_type": "code",
     "collapsed": true,
     "input": [
      "print(np.finfo(x).max*2)\n",
      "type(np.finfo(x).max*2)"
     ],
     "language": "python",
     "metadata": {},
     "outputs": [
      {
       "output_type": "stream",
       "stream": "stdout",
       "text": [
        "6.80564693277e+38\n"
       ]
      },
      {
       "metadata": {},
       "output_type": "pyout",
       "prompt_number": 36,
       "text": [
        "numpy.float64"
       ]
      }
     ],
     "prompt_number": 36
    },
    {
     "cell_type": "markdown",
     "metadata": {},
     "source": [
      "Per la rappresentazione a 64 bit la precisione di macchina \u00e8:\n"
     ]
    },
    {
     "cell_type": "code",
     "collapsed": true,
     "input": [
      "x = np.float64(0.0)\n",
      "np.finfo(x).eps"
     ],
     "language": "python",
     "metadata": {},
     "outputs": [
      {
       "metadata": {},
       "output_type": "pyout",
       "prompt_number": 37,
       "text": [
        "2.2204460492503131e-16"
       ]
      }
     ],
     "prompt_number": 37
    },
    {
     "cell_type": "markdown",
     "metadata": {},
     "source": [
      "In questo caso usare numeri pi\u00f9 grandi del massimo numero rappresentabile genera INF oppure un errore di overflow:"
     ]
    },
    {
     "cell_type": "code",
     "collapsed": true,
     "input": [
      "np.finfo(x).max\n"
     ],
     "language": "python",
     "metadata": {},
     "outputs": [
      {
       "metadata": {},
       "output_type": "pyout",
       "prompt_number": 38,
       "text": [
        "1.7976931348623157e+308"
       ]
      }
     ],
     "prompt_number": 38
    },
    {
     "cell_type": "markdown",
     "metadata": {},
     "source": [
      "non possiamo superare il massimo numero rappresentabile, questa operazione genera inf"
     ]
    },
    {
     "cell_type": "code",
     "collapsed": true,
     "input": [
      "np.finfo(x).max*2"
     ],
     "language": "python",
     "metadata": {},
     "outputs": [
      {
       "metadata": {},
       "output_type": "pyout",
       "prompt_number": 39,
       "text": [
        "inf"
       ]
      }
     ],
     "prompt_number": 39
    },
    {
     "cell_type": "markdown",
     "metadata": {},
     "source": [
      "possiamo tranquillamente usare numeri pi\u00f9 piccoli del pi\u00f9 piccolo numero floating point positivo. Questi numeri vengono detti numeri denormali e consentono l'underflow graduale."
     ]
    },
    {
     "cell_type": "code",
     "collapsed": true,
     "input": [
      "np.finfo(x).tiny"
     ],
     "language": "python",
     "metadata": {},
     "outputs": [
      {
       "metadata": {},
       "output_type": "pyout",
       "prompt_number": 40,
       "text": [
        "2.2250738585072014e-308"
       ]
      }
     ],
     "prompt_number": 40
    },
    {
     "cell_type": "code",
     "collapsed": true,
     "input": [
      "np.finfo(x).tiny/2**53\n"
     ],
     "language": "python",
     "metadata": {},
     "outputs": [
      {
       "metadata": {},
       "output_type": "pyout",
       "prompt_number": 46,
       "text": [
        "0.0"
       ]
      }
     ],
     "prompt_number": 46
    },
    {
     "cell_type": "heading",
     "level": 3,
     "metadata": {},
     "source": [
      "Tipo Complesso"
     ]
    },
    {
     "cell_type": "code",
     "collapsed": false,
     "input": [
      "print(complex(-1.0))"
     ],
     "language": "python",
     "metadata": {},
     "outputs": [
      {
       "output_type": "stream",
       "stream": "stdout",
       "text": [
        "(-1+0j)\n"
       ]
      }
     ],
     "prompt_number": 47
    },
    {
     "cell_type": "code",
     "collapsed": false,
     "input": [
      "a =-1+0j\n",
      "b = 0+1j\n",
      "print(a+b)"
     ],
     "language": "python",
     "metadata": {},
     "outputs": [
      {
       "output_type": "stream",
       "stream": "stdout",
       "text": [
        "(-1+1j)\n"
       ]
      }
     ],
     "prompt_number": 48
    },
    {
     "cell_type": "code",
     "collapsed": false,
     "input": [
      "print(np.sqrt(-1.0))"
     ],
     "language": "python",
     "metadata": {},
     "outputs": [
      {
       "output_type": "stream",
       "stream": "stdout",
       "text": [
        "nan\n"
       ]
      }
     ],
     "prompt_number": 49
    },
    {
     "cell_type": "code",
     "collapsed": false,
     "input": [
      "print(np.sqrt(complex(-1.0)))"
     ],
     "language": "python",
     "metadata": {},
     "outputs": [
      {
       "output_type": "stream",
       "stream": "stdout",
       "text": [
        "1j\n"
       ]
      }
     ],
     "prompt_number": 50
    },
    {
     "cell_type": "code",
     "collapsed": false,
     "input": [
      "import scipy as sp\n",
      "print(sp.sqrt(-1.0))"
     ],
     "language": "python",
     "metadata": {},
     "outputs": [
      {
       "output_type": "stream",
       "stream": "stdout",
       "text": [
        "1j\n"
       ]
      }
     ],
     "prompt_number": 51
    },
    {
     "cell_type": "code",
     "collapsed": false,
     "input": [
      "import cmath\n",
      "print(cmath.sqrt(-1.0))"
     ],
     "language": "python",
     "metadata": {},
     "outputs": [
      {
       "output_type": "stream",
       "stream": "stdout",
       "text": [
        "1j\n"
       ]
      }
     ],
     "prompt_number": 54
    },
    {
     "cell_type": "heading",
     "level": 3,
     "metadata": {},
     "source": [
      "Stringhe"
     ]
    },
    {
     "cell_type": "code",
     "collapsed": true,
     "input": [
      "c = \"la mia prima stringa\"\n",
      "print(c)"
     ],
     "language": "python",
     "metadata": {},
     "outputs": [
      {
       "output_type": "stream",
       "stream": "stdout",
       "text": [
        "la mia prima stringa\n"
       ]
      }
     ],
     "prompt_number": 55
    },
    {
     "cell_type": "code",
     "collapsed": true,
     "input": [
      "c=\"\"\"la mia seconda stringa \n",
      "su pi\u00f9 righe\n",
      "in tutto tre righe\"\"\"\n",
      "print(c)"
     ],
     "language": "python",
     "metadata": {},
     "outputs": [
      {
       "output_type": "stream",
       "stream": "stdout",
       "text": [
        "la mia seconda stringa \n",
        "su pi\u00f9 righe\n",
        "in tutto tre righe\n"
       ]
      }
     ],
     "prompt_number": 56
    },
    {
     "cell_type": "heading",
     "level": 3,
     "metadata": {},
     "source": [
      "Liste"
     ]
    },
    {
     "cell_type": "code",
     "collapsed": true,
     "input": [
      "v = [1, 2, 3]\n",
      "print(v)\n",
      "type(v)"
     ],
     "language": "python",
     "metadata": {},
     "outputs": [
      {
       "output_type": "stream",
       "stream": "stdout",
       "text": [
        "[1, 2, 3]\n"
       ]
      },
      {
       "metadata": {},
       "output_type": "pyout",
       "prompt_number": 58,
       "text": [
        "list"
       ]
      }
     ],
     "prompt_number": 58
    },
    {
     "cell_type": "code",
     "collapsed": true,
     "input": [
      "v[1]"
     ],
     "language": "python",
     "metadata": {},
     "outputs": [
      {
       "metadata": {},
       "output_type": "pyout",
       "prompt_number": 59,
       "text": [
        "2"
       ]
      }
     ],
     "prompt_number": 59
    },
    {
     "cell_type": "code",
     "collapsed": true,
     "input": [
      "v[0]"
     ],
     "language": "python",
     "metadata": {},
     "outputs": [
      {
       "metadata": {},
       "output_type": "pyout",
       "prompt_number": 60,
       "text": [
        "1"
       ]
      }
     ],
     "prompt_number": 60
    },
    {
     "cell_type": "code",
     "collapsed": true,
     "input": [
      "v.append(4)\n",
      "print(v)"
     ],
     "language": "python",
     "metadata": {},
     "outputs": [
      {
       "output_type": "stream",
       "stream": "stdout",
       "text": [
        "[1, 2, 3, 4]\n"
       ]
      }
     ],
     "prompt_number": 61
    },
    {
     "cell_type": "code",
     "collapsed": true,
     "input": [
      "g=v.pop()\n",
      "print(g)\n",
      "print(v)"
     ],
     "language": "python",
     "metadata": {},
     "outputs": [
      {
       "output_type": "stream",
       "stream": "stdout",
       "text": [
        "4\n",
        "[1, 2, 3]\n"
       ]
      }
     ],
     "prompt_number": 62
    },
    {
     "cell_type": "markdown",
     "metadata": {},
     "source": [
      "L'istruzione whos permette di visualizzare le variabili in uso nel workspace:"
     ]
    },
    {
     "cell_type": "code",
     "collapsed": true,
     "input": [
      "%whos"
     ],
     "language": "python",
     "metadata": {},
     "outputs": [
      {
       "output_type": "stream",
       "stream": "stdout",
       "text": [
        "Variable         Type                   Data/Info\n",
        "-------------------------------------------------\n",
        "a                complex                (-1+0j)\n",
        "b                complex                1j\n",
        "c                str                    la mia seconda stringa \\n<...>righe\\nin tutto tre righe\n",
        "cmath            module                 <module 'cmath' from '/Us<...>.7/lib-dynload/cmath.so'>\n",
        "division         __future__._Feature    _Feature((2, 2, 0, 'alpha<...> 0, 0, 'alpha', 0), 8192)\n",
        "g                int                    4\n",
        "mt               module                 <module 'math' from '/Use<...>2.7/lib-dynload/math.so'>\n",
        "n                long                   1000000000000000000000000000000\n",
        "np               module                 <module 'numpy' from '/Us<...>ages/numpy/__init__.pyc'>\n",
        "print_function   __future__._Feature    _Feature((2, 6, 0, 'alpha<...>0, 0, 'alpha', 0), 65536)\n",
        "s                float32                nan\n",
        "sp               module                 <module 'scipy' from '/Us<...>ages/scipy/__init__.pyc'>\n",
        "v                list                   n=3\n",
        "var              int                    3\n",
        "x                float64                0.0\n",
        "y                float32                1.0\n",
        "z                float32                inf\n"
       ]
      }
     ],
     "prompt_number": 63
    },
    {
     "cell_type": "markdown",
     "metadata": {},
     "source": [
      "IPython supporta le  \"magic functions\" facendo preceder il comando dal carattere %. Per esempio run e whos sono magic functions. \n",
      "Essendo per default settato il comando automagic si pu\u00f2 anche non mettere il simbolo % prima delle magic functions.\n"
     ]
    },
    {
     "cell_type": "code",
     "collapsed": true,
     "input": [
      "del var"
     ],
     "language": "python",
     "metadata": {},
     "outputs": [],
     "prompt_number": 64
    },
    {
     "cell_type": "code",
     "collapsed": true,
     "input": [
      "whos"
     ],
     "language": "python",
     "metadata": {},
     "outputs": [
      {
       "output_type": "stream",
       "stream": "stdout",
       "text": [
        "Variable         Type                   Data/Info\n",
        "-------------------------------------------------\n",
        "a                complex                (-1+0j)\n",
        "b                complex                1j\n",
        "c                str                    la mia seconda stringa \\n<...>righe\\nin tutto tre righe\n",
        "cmath            module                 <module 'cmath' from '/Us<...>.7/lib-dynload/cmath.so'>\n",
        "division         __future__._Feature    _Feature((2, 2, 0, 'alpha<...> 0, 0, 'alpha', 0), 8192)\n",
        "g                int                    4\n",
        "mt               module                 <module 'math' from '/Use<...>2.7/lib-dynload/math.so'>\n",
        "n                long                   1000000000000000000000000000000\n",
        "np               module                 <module 'numpy' from '/Us<...>ages/numpy/__init__.pyc'>\n",
        "print_function   __future__._Feature    _Feature((2, 6, 0, 'alpha<...>0, 0, 'alpha', 0), 65536)\n",
        "s                float32                nan\n",
        "sp               module                 <module 'scipy' from '/Us<...>ages/scipy/__init__.pyc'>\n",
        "v                list                   n=3\n",
        "x                float64                0.0\n",
        "y                float32                1.0\n",
        "z                float32                inf\n"
       ]
      }
     ],
     "prompt_number": 65
    },
    {
     "cell_type": "markdown",
     "metadata": {},
     "source": [
      "In spyder per visualizzare le variabili si usa  la finestra variable explorer. "
     ]
    },
    {
     "cell_type": "heading",
     "level": 3,
     "metadata": {},
     "source": [
      "Istruzioni di assegnazione"
     ]
    },
    {
     "cell_type": "code",
     "collapsed": true,
     "input": [
      "a = 3\n",
      "b = 2*a\n",
      "print(type(b))\n",
      "print(b)\n",
      "d=a*b\n",
      "print(d)"
     ],
     "language": "python",
     "metadata": {},
     "outputs": [
      {
       "output_type": "stream",
       "stream": "stdout",
       "text": [
        "<type 'int'>\n",
        "6\n",
        "18\n"
       ]
      }
     ],
     "prompt_number": 66
    },
    {
     "cell_type": "code",
     "collapsed": true,
     "input": [
      "b = 'Ciao'\n",
      "print(type(b))\n",
      "\n",
      "c = b + b\n",
      "print(c)\n",
      "\n",
      "d=2*b\n",
      "print(d)"
     ],
     "language": "python",
     "metadata": {},
     "outputs": [
      {
       "output_type": "stream",
       "stream": "stdout",
       "text": [
        "<type 'str'>\n",
        "CiaoCiao\n",
        "CiaoCiao\n"
       ]
      }
     ],
     "prompt_number": 67
    },
    {
     "cell_type": "markdown",
     "metadata": {},
     "source": [
      "Per le liste l'istruzione di assegnazione fa condividere alle due variabili le stesse locazioni di memoria:"
     ]
    },
    {
     "cell_type": "code",
     "collapsed": true,
     "input": [
      "a =[1,2,'ciao']\n",
      "print(a)\n",
      "b=a\n",
      "b[2]=10\n",
      "print(a) "
     ],
     "language": "python",
     "metadata": {},
     "outputs": [
      {
       "output_type": "stream",
       "stream": "stdout",
       "text": [
        "[1, 2, 'ciao']\n",
        "[1, 2, 10]\n"
       ]
      }
     ],
     "prompt_number": 69
    },
    {
     "cell_type": "markdown",
     "metadata": {},
     "source": [
      "Il modo pi\u00f9 semplice per fare la copia di una lista e copiare non l'oggetto ma tutti gli elementi"
     ]
    },
    {
     "cell_type": "code",
     "collapsed": true,
     "input": [
      "a =[1,2,'ciao']\n",
      "b=a[:]\n",
      "b[2]=10\n",
      "print(a)\n",
      "print(b)"
     ],
     "language": "python",
     "metadata": {},
     "outputs": [
      {
       "output_type": "stream",
       "stream": "stdout",
       "text": [
        "[1, 2, 'ciao']\n",
        "[1, 2, 10]\n"
       ]
      }
     ],
     "prompt_number": 70
    },
    {
     "cell_type": "markdown",
     "metadata": {},
     "source": [
      "La lunghezza di una lista si trova con la funzione len"
     ]
    },
    {
     "cell_type": "code",
     "collapsed": true,
     "input": [
      "len(a)"
     ],
     "language": "python",
     "metadata": {},
     "outputs": [
      {
       "metadata": {},
       "output_type": "pyout",
       "prompt_number": 71,
       "text": [
        "3"
       ]
      }
     ],
     "prompt_number": 71
    },
    {
     "cell_type": "heading",
     "level": 3,
     "metadata": {},
     "source": [
      "Tuple"
     ]
    },
    {
     "cell_type": "code",
     "collapsed": true,
     "input": [
      "a=(1,2,'ciao')\n",
      "b=a\n",
      "print(a[0])\n",
      "print(b)"
     ],
     "language": "python",
     "metadata": {},
     "outputs": [
      {
       "output_type": "stream",
       "stream": "stdout",
       "text": [
        "1\n",
        "(1, 2, 'ciao')\n"
       ]
      }
     ],
     "prompt_number": 74
    },
    {
     "cell_type": "markdown",
     "metadata": {},
     "source": [
      "Non si possono aggiornare gli elementi di una tupla come quelli di una lista"
     ]
    },
    {
     "cell_type": "code",
     "collapsed": true,
     "input": [
      "a[0]=10"
     ],
     "language": "python",
     "metadata": {},
     "outputs": [
      {
       "ename": "TypeError",
       "evalue": "'tuple' object does not support item assignment",
       "output_type": "pyerr",
       "traceback": [
        "\u001b[0;31m---------------------------------------------------------------------------\u001b[0m\n\u001b[0;31mTypeError\u001b[0m                                 Traceback (most recent call last)",
        "\u001b[0;32m<ipython-input-75-7fdc77ffae9b>\u001b[0m in \u001b[0;36m<module>\u001b[0;34m()\u001b[0m\n\u001b[0;32m----> 1\u001b[0;31m \u001b[0ma\u001b[0m\u001b[0;34m[\u001b[0m\u001b[0;36m0\u001b[0m\u001b[0;34m]\u001b[0m\u001b[0;34m=\u001b[0m\u001b[0;36m10\u001b[0m\u001b[0;34m\u001b[0m\u001b[0m\n\u001b[0m",
        "\u001b[0;31mTypeError\u001b[0m: 'tuple' object does not support item assignment"
       ]
      }
     ],
     "prompt_number": 75
    },
    {
     "cell_type": "markdown",
     "metadata": {},
     "source": [
      "la  tupla si pu\u00f2 spacchettare"
     ]
    },
    {
     "cell_type": "code",
     "collapsed": true,
     "input": [
      "(g1,g2,g3)=a\n",
      "print(g1)\n",
      "print(g2)\n",
      "print(g3)"
     ],
     "language": "python",
     "metadata": {},
     "outputs": [
      {
       "output_type": "stream",
       "stream": "stdout",
       "text": [
        "1\n",
        "2\n",
        "ciao\n"
       ]
      }
     ],
     "prompt_number": 76
    },
    {
     "cell_type": "heading",
     "level": 3,
     "metadata": {},
     "source": [
      "Dictionary"
     ]
    },
    {
     "cell_type": "code",
     "collapsed": true,
     "input": [
      "voti = {\"Maria\":10,\"Antonio\":7, \"Giovanni\":9}\n",
      "print(voti)"
     ],
     "language": "python",
     "metadata": {},
     "outputs": [
      {
       "output_type": "stream",
       "stream": "stdout",
       "text": [
        "{'Giovanni': 9, 'Antonio': 7, 'Maria': 10}\n"
       ]
      }
     ],
     "prompt_number": 77
    },
    {
     "cell_type": "code",
     "collapsed": true,
     "input": [
      "voti.values()"
     ],
     "language": "python",
     "metadata": {},
     "outputs": [
      {
       "metadata": {},
       "output_type": "pyout",
       "prompt_number": 78,
       "text": [
        "[9, 7, 10]"
       ]
      }
     ],
     "prompt_number": 78
    },
    {
     "cell_type": "code",
     "collapsed": true,
     "input": [
      "voti.keys()"
     ],
     "language": "python",
     "metadata": {},
     "outputs": [
      {
       "metadata": {},
       "output_type": "pyout",
       "prompt_number": 79,
       "text": [
        "['Giovanni', 'Antonio', 'Maria']"
       ]
      }
     ],
     "prompt_number": 79
    },
    {
     "cell_type": "code",
     "collapsed": true,
     "input": [
      "voti[\"Giovanni\"]"
     ],
     "language": "python",
     "metadata": {},
     "outputs": [
      {
       "metadata": {},
       "output_type": "pyout",
       "prompt_number": 80,
       "text": [
        "9"
       ]
      }
     ],
     "prompt_number": 80
    },
    {
     "cell_type": "code",
     "collapsed": true,
     "input": [
      "len(voti)"
     ],
     "language": "python",
     "metadata": {},
     "outputs": [
      {
       "metadata": {},
       "output_type": "pyout",
       "prompt_number": 81,
       "text": [
        "3"
       ]
      }
     ],
     "prompt_number": 81
    },
    {
     "cell_type": "heading",
     "level": 3,
     "metadata": {},
     "source": [
      "Funzioni"
     ]
    },
    {
     "cell_type": "code",
     "collapsed": true,
     "input": [
      "def somma(a=0,b=1):\n",
      "    s=a+b\n",
      "    return(s)"
     ],
     "language": "python",
     "metadata": {},
     "outputs": [],
     "prompt_number": 87
    },
    {
     "cell_type": "code",
     "collapsed": true,
     "input": [
      "somma()"
     ],
     "language": "python",
     "metadata": {},
     "outputs": [
      {
       "metadata": {},
       "output_type": "pyout",
       "prompt_number": 88,
       "text": [
        "1"
       ]
      }
     ],
     "prompt_number": 88
    },
    {
     "cell_type": "code",
     "collapsed": true,
     "input": [
      "def somma(a,b=1):\n",
      "    s=a+b\n",
      "    a=4\n",
      "    return(s)"
     ],
     "language": "python",
     "metadata": {},
     "outputs": [],
     "prompt_number": 89
    },
    {
     "cell_type": "code",
     "collapsed": true,
     "input": [
      "a=3\n",
      "print(somma(a))\n",
      "print(a)\n"
     ],
     "language": "python",
     "metadata": {},
     "outputs": [
      {
       "output_type": "stream",
       "stream": "stdout",
       "text": [
        "4\n",
        "3\n"
       ]
      }
     ],
     "prompt_number": 90
    },
    {
     "cell_type": "code",
     "collapsed": true,
     "input": [
      "somma2 = somma  # le funzioni sono oggetti posso usarli in operazioni di assegnazione \n",
      "print(somma2(2,3))"
     ],
     "language": "python",
     "metadata": {},
     "outputs": [
      {
       "output_type": "stream",
       "stream": "stdout",
       "text": [
        "5\n"
       ]
      }
     ],
     "prompt_number": 91
    },
    {
     "cell_type": "code",
     "collapsed": true,
     "input": [
      "somma2=2*somma # non posso per\u00f2 moltplicare una funzione con uno scalare"
     ],
     "language": "python",
     "metadata": {},
     "outputs": [
      {
       "ename": "TypeError",
       "evalue": "unsupported operand type(s) for *: 'int' and 'function'",
       "output_type": "pyerr",
       "traceback": [
        "\u001b[0;31m---------------------------------------------------------------------------\u001b[0m\n\u001b[0;31mTypeError\u001b[0m                                 Traceback (most recent call last)",
        "\u001b[0;32m<ipython-input-92-15cf9a54b47c>\u001b[0m in \u001b[0;36m<module>\u001b[0;34m()\u001b[0m\n\u001b[0;32m----> 1\u001b[0;31m \u001b[0msomma2\u001b[0m\u001b[0;34m=\u001b[0m\u001b[0;36m2\u001b[0m\u001b[0;34m*\u001b[0m\u001b[0msomma\u001b[0m \u001b[0;31m# non posso per\u00f2 moltplicare una funzione con uno scalare\u001b[0m\u001b[0;34m\u001b[0m\u001b[0m\n\u001b[0m",
        "\u001b[0;31mTypeError\u001b[0m: unsupported operand type(s) for *: 'int' and 'function'"
       ]
      }
     ],
     "prompt_number": 92
    },
    {
     "cell_type": "code",
     "collapsed": true,
     "input": [
      "somma2=somma*somma # e neanche due funzioni fra loro"
     ],
     "language": "python",
     "metadata": {},
     "outputs": [
      {
       "ename": "TypeError",
       "evalue": "unsupported operand type(s) for *: 'function' and 'function'",
       "output_type": "pyerr",
       "traceback": [
        "\u001b[0;31m---------------------------------------------------------------------------\u001b[0m\n\u001b[0;31mTypeError\u001b[0m                                 Traceback (most recent call last)",
        "\u001b[0;32m<ipython-input-93-88ed40513481>\u001b[0m in \u001b[0;36m<module>\u001b[0;34m()\u001b[0m\n\u001b[0;32m----> 1\u001b[0;31m \u001b[0msomma2\u001b[0m\u001b[0;34m=\u001b[0m\u001b[0msomma\u001b[0m\u001b[0;34m*\u001b[0m\u001b[0msomma\u001b[0m \u001b[0;31m# e neanche due funzioni fra loro\u001b[0m\u001b[0;34m\u001b[0m\u001b[0m\n\u001b[0m",
        "\u001b[0;31mTypeError\u001b[0m: unsupported operand type(s) for *: 'function' and 'function'"
       ]
      }
     ],
     "prompt_number": 93
    },
    {
     "cell_type": "markdown",
     "metadata": {},
     "source": [
      "Funzioni semplici si possono implementare usando le cosidette lambda function"
     ]
    },
    {
     "cell_type": "code",
     "collapsed": true,
     "input": [
      "print(\"lambda function utilizzo = \",  (lambda a,b:a+b)(2,3)  )"
     ],
     "language": "python",
     "metadata": {},
     "outputs": [
      {
       "output_type": "stream",
       "stream": "stdout",
       "text": [
        "lambda function utilizzo =  5\n"
       ]
      }
     ],
     "prompt_number": 94
    },
    {
     "cell_type": "code",
     "collapsed": true,
     "input": [
      "sommal =  (lambda a,b:a+b)  # assegnazione \n",
      "print(sommal(2,3))"
     ],
     "language": "python",
     "metadata": {},
     "outputs": [
      {
       "output_type": "stream",
       "stream": "stdout",
       "text": [
        "5\n"
       ]
      }
     ],
     "prompt_number": 96
    },
    {
     "cell_type": "markdown",
     "metadata": {},
     "source": [
      "Esempio semplice ciclo di selezione"
     ]
    },
    {
     "cell_type": "code",
     "collapsed": true,
     "input": [
      "def somma(vl):\n",
      "    \"\"\"\n",
      "    somma dei primi due elementi di una lista\n",
      "    input  lista\n",
      "    output  tupla (somma , messaggio di errore)\n",
      "    \"\"\"\n",
      "    n=len(vl)\n",
      "    if n == 2:\n",
      "       s=vl[0]+vl[1]\n",
      "       errormessage = \"nessun errore\"\n",
      "    elif n > 2:\n",
      "       s=vl[0]+vl[1]\n",
      "       errormessage = \"solo i primi due elementi sono stati sommati\"\n",
      "    else:\n",
      "       s=vl[0]\n",
      "       errormessage = \"s contiene un singolo elemento\"         \n",
      "    vl[0]=5\n",
      "    return(s, errormessage)"
     ],
     "language": "python",
     "metadata": {},
     "outputs": [],
     "prompt_number": 99
    },
    {
     "cell_type": "code",
     "collapsed": true,
     "input": [
      "vl = [1,2,3]\n",
      "print(somma(vl))\n",
      "print(vl)"
     ],
     "language": "python",
     "metadata": {},
     "outputs": [
      {
       "output_type": "stream",
       "stream": "stdout",
       "text": [
        "(3, 'solo i primi due elementi sono stati sommati')\n",
        "[5, 2, 3]\n"
       ]
      }
     ],
     "prompt_number": 100
    },
    {
     "cell_type": "code",
     "collapsed": true,
     "input": [
      "help(somma)\n"
     ],
     "language": "python",
     "metadata": {},
     "outputs": [
      {
       "output_type": "stream",
       "stream": "stdout",
       "text": [
        "Help on function somma in module __main__:\n",
        "\n",
        "somma(vl)\n",
        "    somma dei primi due elementi di una lista\n",
        "    input  lista\n",
        "    output  tupla (somma , messaggio di errore)\n",
        "\n"
       ]
      }
     ],
     "prompt_number": 101
    },
    {
     "cell_type": "markdown",
     "metadata": {},
     "source": [
      "Esempio ciclo di ripetizione while.\n",
      "\n",
      "Costruiamo una funzione che abbia come dati di input la base usata dal calcolatore e in output la precisione di macchina. Ricordo che la precisione di macchina e'  il numero, potenza della base, che aggiunto ad 1 genera il successivo numero di macchina. Un numero pi\u00f9 piccolo della precisione di macchina aggiunto ad uno genera zero."
     ]
    },
    {
     "cell_type": "code",
     "collapsed": true,
     "input": [
      "import numpy as np\n",
      "def epsmach(base):\n",
      "    epsmach = 1\n",
      "    k = 0\n",
      "    while ((1+epsmach) > 1):\n",
      "        epsmach = epsmach/base\n",
      "        k = k+1\n",
      "    print('k',k)    \n",
      "    return (epsmach*base, k-1)\n",
      "\n",
      "print(epsmach(2))\n",
      "print(np.finfo(1.0).eps)\n",
      "epsmio, kmio = epsmach(2)\n",
      "print('eps =',epsmio,',  k =',kmio)"
     ],
     "language": "python",
     "metadata": {},
     "outputs": [
      {
       "output_type": "stream",
       "stream": "stdout",
       "text": [
        "k 53\n",
        "(2.220446049250313e-16, 52)\n",
        "2.22044604925e-16\n",
        "k 53\n",
        "eps = 2.22044604925e-16 ,  k = 52\n"
       ]
      }
     ],
     "prompt_number": 104
    },
    {
     "cell_type": "markdown",
     "metadata": {},
     "source": [
      "Esempio ciclo di ripetizione for.\n",
      "Funzione che calcola per n volte la radice quadrata di un numero e per n volte il quadrato del numero risultante. Esempio di ciclo for, esempio di errori di arrotondamento"
     ]
    },
    {
     "cell_type": "code",
     "collapsed": true,
     "input": [
      "def  esempio_radici(xt,n):\n",
      "    x=xt\n",
      "    for i in range(0,n,1):\n",
      "      x = np.sqrt(x)\n",
      "     \n",
      "    for i in range(0,n):\n",
      "      x = x**2\n",
      "\n",
      "    errore_relativo = abs(xt-x)/abs(xt)\n",
      "    return (x, errore_relativo)"
     ],
     "language": "python",
     "metadata": {},
     "outputs": [],
     "prompt_number": 262
    },
    {
     "cell_type": "code",
     "collapsed": true,
     "input": [
      "n = 55\n",
      "x, errore = esempio_radici(100,n)\n",
      "print('x =',x,',n = ', n,', errore= ',errore)"
     ],
     "language": "python",
     "metadata": {},
     "outputs": [
      {
       "output_type": "stream",
       "stream": "stdout",
       "text": [
        "x = 1.0 ,n =  55 , errore=  0.99\n"
       ]
      }
     ],
     "prompt_number": 266
    },
    {
     "cell_type": "heading",
     "level": 3,
     "metadata": {},
     "source": [
      "Vettori e Matrici"
     ]
    },
    {
     "cell_type": "code",
     "collapsed": true,
     "input": [
      "A = np.array([3., 5., 6.]) # per utilizzare vettori e matrici facciamo ricorso a numpy\n",
      "print(A)"
     ],
     "language": "python",
     "metadata": {},
     "outputs": [
      {
       "output_type": "stream",
       "stream": "stdout",
       "text": [
        "[ 3.  5.  6.]\n"
       ]
      }
     ],
     "prompt_number": 267
    },
    {
     "cell_type": "code",
     "collapsed": true,
     "input": [
      "A.size"
     ],
     "language": "python",
     "metadata": {},
     "outputs": [
      {
       "metadata": {},
       "output_type": "pyout",
       "prompt_number": 268,
       "text": [
        "3"
       ]
      }
     ],
     "prompt_number": 268
    },
    {
     "cell_type": "code",
     "collapsed": true,
     "input": [
      "A[0] + A[1] + A[2]"
     ],
     "language": "python",
     "metadata": {},
     "outputs": [
      {
       "metadata": {},
       "output_type": "pyout",
       "prompt_number": 269,
       "text": [
        "14.0"
       ]
      }
     ],
     "prompt_number": 269
    },
    {
     "cell_type": "code",
     "collapsed": true,
     "input": [
      "np.sum(A)"
     ],
     "language": "python",
     "metadata": {},
     "outputs": [
      {
       "metadata": {},
       "output_type": "pyout",
       "prompt_number": 270,
       "text": [
        "14.0"
       ]
      }
     ],
     "prompt_number": 270
    },
    {
     "cell_type": "code",
     "collapsed": true,
     "input": [
      "np.min(A)"
     ],
     "language": "python",
     "metadata": {},
     "outputs": [
      {
       "metadata": {},
       "output_type": "pyout",
       "prompt_number": 271,
       "text": [
        "3.0"
       ]
      }
     ],
     "prompt_number": 271
    },
    {
     "cell_type": "code",
     "collapsed": true,
     "input": [
      "np.argmin(A)"
     ],
     "language": "python",
     "metadata": {},
     "outputs": [
      {
       "metadata": {},
       "output_type": "pyout",
       "prompt_number": 272,
       "text": [
        "0"
       ]
      }
     ],
     "prompt_number": 272
    },
    {
     "cell_type": "code",
     "collapsed": true,
     "input": [
      "A[np.argmin(A)]"
     ],
     "language": "python",
     "metadata": {},
     "outputs": [
      {
       "metadata": {},
       "output_type": "pyout",
       "prompt_number": 273,
       "text": [
        "3.0"
       ]
      }
     ],
     "prompt_number": 273
    },
    {
     "cell_type": "code",
     "collapsed": true,
     "input": [
      "np.argmax(A)"
     ],
     "language": "python",
     "metadata": {},
     "outputs": [
      {
       "metadata": {},
       "output_type": "pyout",
       "prompt_number": 274,
       "text": [
        "2"
       ]
      }
     ],
     "prompt_number": 274
    },
    {
     "cell_type": "code",
     "collapsed": true,
     "input": [
      "A[np.argmax(A)]"
     ],
     "language": "python",
     "metadata": {},
     "outputs": [
      {
       "metadata": {},
       "output_type": "pyout",
       "prompt_number": 275,
       "text": [
        "6.0"
       ]
      }
     ],
     "prompt_number": 275
    },
    {
     "cell_type": "code",
     "collapsed": true,
     "input": [
      "A=np.array([[  3.,   5.,   7.],\n",
      "           [  8.,   9.,  10.],\n",
      "           [  2.,   3.,   5.]])\n",
      "A"
     ],
     "language": "python",
     "metadata": {},
     "outputs": [
      {
       "metadata": {},
       "output_type": "pyout",
       "prompt_number": 276,
       "text": [
        "array([[  3.,   5.,   7.],\n",
        "       [  8.,   9.,  10.],\n",
        "       [  2.,   3.,   5.]])"
       ]
      }
     ],
     "prompt_number": 276
    },
    {
     "cell_type": "code",
     "collapsed": true,
     "input": [
      "A[0,0]"
     ],
     "language": "python",
     "metadata": {},
     "outputs": [
      {
       "metadata": {},
       "output_type": "pyout",
       "prompt_number": 277,
       "text": [
        "3.0"
       ]
      }
     ],
     "prompt_number": 277
    },
    {
     "cell_type": "code",
     "collapsed": true,
     "input": [
      "A[:,0]"
     ],
     "language": "python",
     "metadata": {},
     "outputs": [
      {
       "metadata": {},
       "output_type": "pyout",
       "prompt_number": 278,
       "text": [
        "array([ 3.,  8.,  2.])"
       ]
      }
     ],
     "prompt_number": 278
    },
    {
     "cell_type": "code",
     "collapsed": true,
     "input": [
      "A[0,:]"
     ],
     "language": "python",
     "metadata": {},
     "outputs": [
      {
       "metadata": {},
       "output_type": "pyout",
       "prompt_number": 279,
       "text": [
        "array([ 3.,  5.,  7.])"
       ]
      }
     ],
     "prompt_number": 279
    },
    {
     "cell_type": "code",
     "collapsed": true,
     "input": [
      "A[1:3,1:3]"
     ],
     "language": "python",
     "metadata": {},
     "outputs": [
      {
       "metadata": {},
       "output_type": "pyout",
       "prompt_number": 280,
       "text": [
        "array([[  9.,  10.],\n",
        "       [  3.,   5.]])"
       ]
      }
     ],
     "prompt_number": 280
    },
    {
     "cell_type": "code",
     "collapsed": true,
     "input": [
      "np.linspace(0,5,20)"
     ],
     "language": "python",
     "metadata": {},
     "outputs": [
      {
       "metadata": {},
       "output_type": "pyout",
       "prompt_number": 281,
       "text": [
        "array([ 0.        ,  0.26315789,  0.52631579,  0.78947368,  1.05263158,\n",
        "        1.31578947,  1.57894737,  1.84210526,  2.10526316,  2.36842105,\n",
        "        2.63157895,  2.89473684,  3.15789474,  3.42105263,  3.68421053,\n",
        "        3.94736842,  4.21052632,  4.47368421,  4.73684211,  5.        ])"
       ]
      }
     ],
     "prompt_number": 281
    },
    {
     "cell_type": "code",
     "collapsed": true,
     "input": [
      "np.logspace(0,5,10)"
     ],
     "language": "python",
     "metadata": {},
     "outputs": [
      {
       "metadata": {},
       "output_type": "pyout",
       "prompt_number": 282,
       "text": [
        "array([  1.00000000e+00,   3.59381366e+00,   1.29154967e+01,\n",
        "         4.64158883e+01,   1.66810054e+02,   5.99484250e+02,\n",
        "         2.15443469e+03,   7.74263683e+03,   2.78255940e+04,\n",
        "         1.00000000e+05])"
       ]
      }
     ],
     "prompt_number": 282
    },
    {
     "cell_type": "code",
     "collapsed": true,
     "input": [
      "%matplotlib inline\n",
      "import matplotlib.pyplot as plt\n",
      "\n",
      "x=np.logspace(0,9,500)\n",
      "r1=x*(np.sqrt(x**2+1)-x)\n",
      "r2=x*np.sqrt(x**2+1)-x**2\n",
      "r3=x/(np.sqrt(x**2+1)+x)\n",
      "v=plt.semilogx(x,r1,'r.',x,r2,'b.',x,r3,'g-',lw=2)\n"
     ],
     "language": "python",
     "metadata": {},
     "outputs": [
      {
       "metadata": {},
       "output_type": "display_data",
       "png": "[encoded data removed]",
       "text": [
        "<matplotlib.figure.Figure at 0x63cfbf0>"
       ]
      }
     ],
     "prompt_number": 283
    },
    {
     "cell_type": "code",
     "collapsed": true,
     "input": [
      "import matplotlib.pyplot as plt\n",
      "%matplotlib qt  # funzione di Ipython \n",
      "x=np.logspace(0,9,500)\n",
      "\n",
      "r1=x*(np.sqrt(x**2+1)-x)\n",
      "r2=x*np.sqrt(x**2+1)-x**2\n",
      "r3=x/(np.sqrt(x**2+1)+x)\n",
      "\n",
      "v=plt.semilogx(x,r1,'r.',x,r2,'b.',x,r3,'g-',lw=2)\n",
      "print(v)\n",
      "print(v[0])"
     ],
     "language": "python",
     "metadata": {},
     "outputs": [
      {
       "output_type": "stream",
       "stream": "stderr",
       "text": [
        "UsageError: unrecognized arguments: # funzione di Ipython"
       ]
      }
     ],
     "prompt_number": 284
    },
    {
     "cell_type": "markdown",
     "metadata": {},
     "source": [
      "Approssimazione della derivata usando le differenze in avanti"
     ]
    },
    {
     "cell_type": "code",
     "collapsed": true,
     "input": [
      "#%%\n",
      "h = np.array([0.1, 0.01, 0.001, 1e-4, 1e-7, 1e-12])\n",
      "# approssimazione della derivata di exp(1) differenze in avanti\n",
      "dfh = (np.exp(1+h)-np.exp(1))/h\n",
      "# valore esatto\n",
      "df = np.exp(1)\n",
      "# errore assoluto\n",
      "errass = np.abs(df-dfh)\n",
      "errrel = errass/np.abs(df)\n",
      "# grafico in scala logaritmica\n",
      "plt.loglog(h,errrel,'o-b')\n",
      "plt.show()"
     ],
     "language": "python",
     "metadata": {},
     "outputs": [
      {
       "metadata": {},
       "output_type": "display_data",
       "png": "[encoded data removed]",
       "text": [
        "<matplotlib.figure.Figure at 0x6388d70>"
       ]
      }
     ],
     "prompt_number": 285
    },
    {
     "cell_type": "code",
     "collapsed": true,
     "input": [
      "#%%\n",
      "# costruiamo un vettore con elementi\n",
      "# che variano da 10**(-16) a 1\n",
      "h = np.logspace(-19,0,500)\n",
      "# approssimazione della derivata\n",
      "dfh = (np.exp(1+h)-np.exp(1))/h\n",
      "# valore esatto\n",
      "df = np.exp(1)\n",
      "# errore assoluto\n",
      "errass = np.abs(df-dfh)\n",
      "errrel = errass/np.abs(df)\n",
      "# grafico in scala logaritmica\n",
      "plt.loglog(h,errrel,'*-r')\n",
      "plt.show()"
     ],
     "language": "python",
     "metadata": {},
     "outputs": [
      {
       "metadata": {},
       "output_type": "display_data",
       "png": "[encoded data removed]",
       "text": [
        "<matplotlib.figure.Figure at 0x76869d0>"
       ]
      }
     ],
     "prompt_number": 286
    },
    {
     "cell_type": "code",
     "collapsed": true,
     "input": [
      "\n",
      "# esempio di problema mal condizionato\n",
      "# trovare le radici multiple di polinomi\n",
      "# (x-1)^4\n",
      "\n",
      "p4 = np.array([1, -4, 6, -4, 1])\n",
      "r4 = np.roots(p4)\n",
      "# roots calcola le radici\n",
      "# errore relativo\n",
      "err4 = abs(r4-1)\n",
      "print (\"errore assoluto polinomio di grado 4\" )\n",
      "for rad in err4:\n",
      "    print (rad)\n",
      "# calcoliamo le radici di (x-1)^6\n",
      "\n",
      "p6 = np.array([ 1, -6, 15, -20, 15, -6, 1])\n",
      "r6 = np.roots(p6)\n",
      "# roots calcola le radici \n",
      "# errore relativo\n",
      "err6 = abs(r6-1)\n",
      "\n",
      "print( \"errore assoluto polinomio di grado 6\" )\n",
      "for rad in err6:\n",
      "    print (rad)\n"
     ],
     "language": "python",
     "metadata": {},
     "outputs": [
      {
       "output_type": "stream",
       "stream": "stdout",
       "text": [
        "errore assoluto polinomio di grado 4\n",
        "0.00021716253075\n",
        "0.00021713185991\n",
        "0.00021713185991\n",
        "0.000217101202328\n",
        "errore assoluto polinomio di grado 6\n",
        "0.00479996633537\n",
        "0.00479841997446\n",
        "0.00479841997446\n",
        "0.0047952747979\n",
        "0.0047952747979\n",
        "0.00479367628048\n"
       ]
      }
     ],
     "prompt_number": 287
    },
    {
     "cell_type": "markdown",
     "metadata": {},
     "source": [
      "Grafico di un polinomio in un intervallo specificato"
     ]
    },
    {
     "cell_type": "code",
     "collapsed": true,
     "input": [
      "import matplotlib.pyplot as plt\n",
      "%matplotlib qt\n",
      "p = np.array([1,-6,15,-20,15,-6,1]) # coefficienti del polinomio  (x-1)^6\n",
      "x = np.linspace(0.995,1.005,500)  # intervallo [0.995,1.005] \n",
      "y = (x-1)**6\n",
      "ye = np.polyval(p,x)#funzione per valutare un polinomio in un punto\n",
      "plt.plot(x,y,'-b',lw=4)\n",
      "plt.plot(x,ye,'og')"
     ],
     "language": "python",
     "metadata": {},
     "outputs": [
      {
       "metadata": {},
       "output_type": "pyout",
       "prompt_number": 288,
       "text": [
        "[<matplotlib.lines.Line2D at 0x751a8f0>]"
       ]
      }
     ],
     "prompt_number": 288
    },
    {
     "cell_type": "heading",
     "level": 3,
     "metadata": {},
     "source": [
      "Moduli"
     ]
    },
    {
     "cell_type": "markdown",
     "metadata": {},
     "source": [
      "I moduli sono dei file che contengono oggetti Python come funzioni o classi o variabili che possono essere importati e utilizzati da altri moduli e possono far parte di pacchetti pi\u00f9 complessi.\n",
      "Scriviamo il modulo nel file primo_modulo.py"
     ]
    },
    {
     "cell_type": "code",
     "collapsed": true,
     "input": [
      "import primo_modulo as pm"
     ],
     "language": "python",
     "metadata": {},
     "outputs": []
    },
    {
     "cell_type": "code",
     "collapsed": true,
     "input": [
      "print(pm.a)\n",
      "print(pm.b)\n",
      "print(pm.somma(2,3))\n",
      "print(pm.prodotto(2,2))"
     ],
     "language": "python",
     "metadata": {},
     "outputs": []
    },
    {
     "cell_type": "markdown",
     "metadata": {},
     "source": [
      "Se modifichiamo il codice del modulo pm  aggiungendo, per esempio, una funzione dobbiamo ricaricarlo con l'istruzione"
     ]
    },
    {
     "cell_type": "code",
     "collapsed": true,
     "input": [
      "import importlib as imp\n",
      "imp.reload(pm)"
     ],
     "language": "python",
     "metadata": {},
     "outputs": []
    },
    {
     "cell_type": "heading",
     "level": 3,
     "metadata": {},
     "source": [
      "Files\n"
     ]
    },
    {
     "cell_type": "code",
     "collapsed": false,
     "input": [
      "pf =open(\"provafile.txt\",\"w\")\n",
      "pf.write(\"CIAO, provo a scrivere nel file\\n\")\n",
      "pf.write(\"CIAO, provo ancora a scrivere nel file\\n\")\n",
      "pf.close()"
     ],
     "language": "python",
     "metadata": {},
     "outputs": []
    },
    {
     "cell_type": "code",
     "collapsed": false,
     "input": [
      "pf =open(\"provafile.txt\",\"r\")\n",
      "print(pf.read())\n",
      "pf.close()\n",
      "pf =open(\"provafile.txt\",\"r\")\n",
      "print(pf.readline())\n",
      "print(pf.readline())"
     ],
     "language": "python",
     "metadata": {},
     "outputs": []
    },
    {
     "cell_type": "code",
     "collapsed": false,
     "input": [
      "pf =open(\"provafile.txt\",\"w\")\n",
      "pf.write(\"CIAO; provo a scrivere nel file; 1\\n\")\n",
      "pf.write(\"CIAO; provo a scrivere nel file; 2\\n\")\n",
      "pf.writelines([\"CIAO; provo a scrivere nel file; 3\\n\",\"CIAO; provo a scrivere nel file; 4\\n\" ])\n",
      "pf.close()"
     ],
     "language": "python",
     "metadata": {},
     "outputs": []
    },
    {
     "cell_type": "code",
     "collapsed": false,
     "input": [
      "pf =open(\"provafile.txt\",\"r\")\n",
      "file = pf.read()\n",
      "print(file)\n",
      "pf.close()"
     ],
     "language": "python",
     "metadata": {},
     "outputs": []
    },
    {
     "cell_type": "markdown",
     "metadata": {},
     "source": [
      "Alcuni esempi di operazioni sulle stringhe"
     ]
    },
    {
     "cell_type": "code",
     "collapsed": false,
     "input": [
      "for k in file:\n",
      "    print (k)"
     ],
     "language": "python",
     "metadata": {},
     "outputs": []
    },
    {
     "cell_type": "code",
     "collapsed": false,
     "input": [
      "sfile = set(file)\n",
      "print(sfile)"
     ],
     "language": "python",
     "metadata": {},
     "outputs": []
    },
    {
     "cell_type": "code",
     "collapsed": false,
     "input": [
      "print(file.upper())"
     ],
     "language": "python",
     "metadata": {},
     "outputs": []
    },
    {
     "cell_type": "code",
     "collapsed": false,
     "input": [
      "print(file.lower())"
     ],
     "language": "python",
     "metadata": {},
     "outputs": []
    },
    {
     "cell_type": "code",
     "collapsed": false,
     "input": [
      "print(file.split())"
     ],
     "language": "python",
     "metadata": {},
     "outputs": []
    },
    {
     "cell_type": "code",
     "collapsed": false,
     "input": [
      "print(file.split(';'))"
     ],
     "language": "python",
     "metadata": {},
     "outputs": []
    },
    {
     "cell_type": "heading",
     "level": 3,
     "metadata": {},
     "source": [
      "Classi"
     ]
    },
    {
     "cell_type": "code",
     "collapsed": false,
     "input": [
      "class Punto: \n",
      "  def __init__(self, x=0, y=0): \n",
      "    self.x = x \n",
      "    self.y = y \n",
      "  def __str__(self): \n",
      "    return '(' + str(self.x) + ', ' + str(self.y) + ')' "
     ],
     "language": "python",
     "metadata": {},
     "outputs": []
    },
    {
     "cell_type": "code",
     "collapsed": false,
     "input": [
      "P1= Punto(2,3)\n",
      "print(P1)"
     ],
     "language": "python",
     "metadata": {},
     "outputs": []
    },
    {
     "cell_type": "code",
     "collapsed": false,
     "input": [
      "class Punto: \n",
      "    \"\"\"Classe punto\"\"\"\n",
      "    def __init__(self, x=0, y=0): \n",
      "        self.x = x \n",
      "        self.y = y     \n",
      "    def __add__(self,AltroPunto):\n",
      "        return Punto(self.x + AltroPunto.x, self.y + AltroPunto.y) \n",
      "    def __str__(self): \n",
      "        return '(' + str(self.x) + ', ' + str(self.y) + ')' "
     ],
     "language": "python",
     "metadata": {},
     "outputs": []
    },
    {
     "cell_type": "code",
     "collapsed": false,
     "input": [
      "P1= Punto(2,3)\n",
      "P2=Punto(3,4)\n",
      "P3= P1+P2\n",
      "print(P3)"
     ],
     "language": "python",
     "metadata": {},
     "outputs": []
    },
    {
     "cell_type": "code",
     "collapsed": false,
     "input": [
      "print(Punto.__doc__)"
     ],
     "language": "python",
     "metadata": {},
     "outputs": []
    }
   ],
   "metadata": {}
  }
 ]
}